{
 "cells": [
  {
   "cell_type": "markdown",
   "id": "c0a0af18",
   "metadata": {},
   "source": [
    "## Importing the necessary libraries"
   ]
  },
  {
   "cell_type": "code",
   "execution_count": 1,
   "id": "c945eb34",
   "metadata": {},
   "outputs": [],
   "source": [
    "import os\n",
    "import numpy as np\n",
    "import pandas as pd \n",
    "import matplotlib.pyplot as plt\n",
    "%matplotlib inline\n",
    "from matplotlib.image import imread\n",
    "from tensorflow.keras.preprocessing.image import ImageDataGenerator\n",
    "from tensorflow.keras.models import Sequential, save_model\n",
    "from tensorflow.keras.layers import Dense\n",
    "from tensorflow.keras.losses import BinaryCrossentropy\n",
    "from tensorflow.keras.optimizers import Adam \n",
    "import tensorflow_hub as hub\n",
    "from tensorflow.keras.preprocessing import image"
   ]
  },
  {
   "cell_type": "markdown",
   "id": "9211e1c8",
   "metadata": {},
   "source": [
    "## Getting the path of the training and testing data of the brain tumor dataset"
   ]
  },
  {
   "cell_type": "code",
   "execution_count": 2,
   "id": "dda7cd1f",
   "metadata": {},
   "outputs": [],
   "source": [
    "dataset_directory_location = 'image_dataset'"
   ]
  },
  {
   "cell_type": "code",
   "execution_count": 3,
   "id": "1951ce5e",
   "metadata": {},
   "outputs": [
    {
     "data": {
      "text/plain": [
       "['test', 'train']"
      ]
     },
     "execution_count": 3,
     "metadata": {},
     "output_type": "execute_result"
    }
   ],
   "source": [
    "os.listdir(dataset_directory_location)"
   ]
  },
  {
   "cell_type": "code",
   "execution_count": 4,
   "id": "eef04aba",
   "metadata": {},
   "outputs": [],
   "source": [
    "train_dataset_location = os.path.join(dataset_directory_location, 'train')\n",
    "test_dataset_location = os.path.join(dataset_directory_location, 'test')"
   ]
  },
  {
   "cell_type": "code",
   "execution_count": 5,
   "id": "283b1e1b",
   "metadata": {},
   "outputs": [
    {
     "data": {
      "text/plain": [
       "['leaf', 'not_leaf']"
      ]
     },
     "execution_count": 5,
     "metadata": {},
     "output_type": "execute_result"
    }
   ],
   "source": [
    "os.listdir(train_dataset_location)"
   ]
  },
  {
   "cell_type": "code",
   "execution_count": 6,
   "id": "c72637fa",
   "metadata": {},
   "outputs": [
    {
     "data": {
      "text/plain": [
       "['leaf', 'not_leaf']"
      ]
     },
     "execution_count": 6,
     "metadata": {},
     "output_type": "execute_result"
    }
   ],
   "source": [
    "os.listdir(test_dataset_location)"
   ]
  },
  {
   "cell_type": "markdown",
   "id": "e488d944",
   "metadata": {},
   "source": [
    "## Viewing a brain image"
   ]
  },
  {
   "cell_type": "code",
   "execution_count": 7,
   "id": "29c5f0b0",
   "metadata": {},
   "outputs": [],
   "source": [
    "image_sample = os.path.join(train_dataset_location, 'not_leaf')"
   ]
  },
  {
   "cell_type": "code",
   "execution_count": 8,
   "id": "5dbbec12",
   "metadata": {},
   "outputs": [
    {
     "data": {
      "text/plain": [
       "['100069.png']"
      ]
     },
     "execution_count": 8,
     "metadata": {},
     "output_type": "execute_result"
    }
   ],
   "source": [
    "os.listdir(image_sample)[:1]"
   ]
  },
  {
   "cell_type": "code",
   "execution_count": 9,
   "id": "cde6ffdd",
   "metadata": {},
   "outputs": [],
   "source": [
    "image_sample_read = imread(os.path.join(image_sample, '100069.png'))"
   ]
  },
  {
   "cell_type": "code",
   "execution_count": 10,
   "id": "12a7dbce",
   "metadata": {},
   "outputs": [
    {
     "data": {
      "text/plain": [
       "<matplotlib.image.AxesImage at 0x111208388b0>"
      ]
     },
     "execution_count": 10,
     "metadata": {},
     "output_type": "execute_result"
    },
    {
     "data": {
      "image/png": "[encoded data removed]",
      "text/plain": [
       "<Figure size 640x480 with 1 Axes>"
      ]
     },
     "metadata": {},
     "output_type": "display_data"
    }
   ],
   "source": [
    "plt.imshow(image_sample_read)"
   ]
  },
  {
   "cell_type": "code",
   "execution_count": 11,
   "id": "fea7fd52",
   "metadata": {},
   "outputs": [
    {
     "data": {
      "text/plain": [
       "(32, 32, 3)"
      ]
     },
     "execution_count": 11,
     "metadata": {},
     "output_type": "execute_result"
    }
   ],
   "source": [
    "image_sample_read.shape "
   ]
  },
  {
   "cell_type": "markdown",
   "id": "32371896",
   "metadata": {},
   "source": [
    "## Defining the correct shape of the image"
   ]
  },
  {
   "cell_type": "code",
   "execution_count": 12,
   "id": "f7eddc05",
   "metadata": {},
   "outputs": [],
   "source": [
    "correct_image_shape = (224, 224, 3)"
   ]
  },
  {
   "cell_type": "markdown",
   "id": "ac8e3394",
   "metadata": {},
   "source": [
    "## Defining the ImageGenerator and performing Data Augmentation"
   ]
  },
  {
   "cell_type": "code",
   "execution_count": 13,
   "id": "c3fdcd17",
   "metadata": {},
   "outputs": [],
   "source": [
    "image_gen = ImageDataGenerator(rotation_range=20, \n",
    "                               width_shift_range=0.1, \n",
    "                               height_shift_range=0.1, \n",
    "                               shear_range=0.1, \n",
    "                               zoom_range=0.1, \n",
    "                               horizontal_flip=True, \n",
    "                               fill_mode='nearest',\n",
    "                               rescale=1./255)"
   ]
  },
  {
   "cell_type": "code",
   "execution_count": 14,
   "id": "e1eb6ff1",
   "metadata": {},
   "outputs": [
    {
     "name": "stdout",
     "output_type": "stream",
     "text": [
      "Found 10000 images belonging to 2 classes.\n",
      "Found 2000 images belonging to 2 classes.\n"
     ]
    }
   ],
   "source": [
    "train_image_gen = image_gen.flow_from_directory(train_dataset_location, \n",
    "                                                target_size=correct_image_shape[:2], \n",
    "                                                color_mode='rgb', \n",
    "                                                batch_size=16, \n",
    "                                                class_mode='binary')\n",
    "\n",
    "test_image_gen = image_gen.flow_from_directory(test_dataset_location, \n",
    "                                                target_size=correct_image_shape[:2], \n",
    "                                                color_mode='rgb', \n",
    "                                                batch_size=16, \n",
    "                                                class_mode='binary')"
   ]
  },
  {
   "cell_type": "markdown",
   "id": "882432fb",
   "metadata": {},
   "source": [
    "## Creating and training the model"
   ]
  },
  {
   "cell_type": "code",
   "execution_count": 15,
   "id": "d1684d33",
   "metadata": {},
   "outputs": [],
   "source": [
    "model = Sequential()"
   ]
  },
  {
   "cell_type": "code",
   "execution_count": 16,
   "id": "8d4f5200",
   "metadata": {},
   "outputs": [],
   "source": [
    "get_inception_v2_pretrained_model = \"https://www.kaggle.com/models/google/inception-v2/TensorFlow2/classification/2\""
   ]
  },
  {
   "cell_type": "code",
   "execution_count": 17,
   "id": "2ea25aab",
   "metadata": {},
   "outputs": [],
   "source": [
    "inception_v2_pretrained_model = hub.KerasLayer(get_inception_v2_pretrained_model, input_shape=correct_image_shape, trainable=False) "
   ]
  },
  {
   "cell_type": "code",
   "execution_count": 18,
   "id": "0ff4c021",
   "metadata": {
    "run_control": {
     "marked": false
    }
   },
   "outputs": [],
   "source": [
    "model.add(inception_v2_pretrained_model)\n",
    "\n",
    "model.add(Dense(1, activation='sigmoid'))"
   ]
  },
  {
   "cell_type": "code",
   "execution_count": 19,
   "id": "b98c8dd9",
   "metadata": {},
   "outputs": [
    {
     "name": "stdout",
     "output_type": "stream",
     "text": [
      "Model: \"sequential\"\n",
      "_________________________________________________________________\n",
      " Layer (type)                Output Shape              Param #   \n",
      "=================================================================\n",
      " keras_layer (KerasLayer)    (None, 1001)              11199137  \n",
      "                                                                 \n",
      " dense (Dense)               (None, 1)                 1002      \n",
      "                                                                 \n",
      "=================================================================\n",
      "Total params: 11,200,139\n",
      "Trainable params: 1,002\n",
      "Non-trainable params: 11,199,137\n",
      "_________________________________________________________________\n"
     ]
    }
   ],
   "source": [
    "model.summary()"
   ]
  },
  {
   "cell_type": "code",
   "execution_count": 20,
   "id": "be1deef9",
   "metadata": {},
   "outputs": [],
   "source": [
    "model.compile(loss=BinaryCrossentropy(), optimizer=Adam(learning_rate=0.00001), metrics=['accuracy'])"
   ]
  },
  {
   "cell_type": "code",
   "execution_count": 21,
   "id": "212a7638",
   "metadata": {},
   "outputs": [
    {
     "name": "stdout",
     "output_type": "stream",
     "text": [
      "Epoch 1/10\n",
      "625/625 [==============================] - 200s 295ms/step - loss: 0.5921 - accuracy: 0.6892 - val_loss: 0.3030 - val_accuracy: 0.9215\n",
      "Epoch 2/10\n",
      "625/625 [==============================] - 169s 271ms/step - loss: 0.2022 - accuracy: 0.9601 - val_loss: 0.1330 - val_accuracy: 0.9860\n",
      "Epoch 3/10\n",
      "625/625 [==============================] - 165s 265ms/step - loss: 0.1015 - accuracy: 0.9891 - val_loss: 0.0779 - val_accuracy: 0.9915\n",
      "Epoch 4/10\n",
      "625/625 [==============================] - 157s 251ms/step - loss: 0.0603 - accuracy: 0.9953 - val_loss: 0.0483 - val_accuracy: 0.9950\n",
      "Epoch 5/10\n",
      "625/625 [==============================] - 180s 287ms/step - loss: 0.0402 - accuracy: 0.9975 - val_loss: 0.0316 - val_accuracy: 0.9990\n",
      "Epoch 6/10\n",
      "625/625 [==============================] - 160s 257ms/step - loss: 0.0286 - accuracy: 0.9980 - val_loss: 0.0276 - val_accuracy: 0.9960\n",
      "Epoch 7/10\n",
      "625/625 [==============================] - 156s 250ms/step - loss: 0.0199 - accuracy: 0.9989 - val_loss: 0.0169 - val_accuracy: 0.9995\n",
      "Epoch 8/10\n",
      "625/625 [==============================] - 156s 249ms/step - loss: 0.0155 - accuracy: 0.9991 - val_loss: 0.0135 - val_accuracy: 0.9985\n",
      "Epoch 9/10\n",
      "625/625 [==============================] - 156s 250ms/step - loss: 0.0112 - accuracy: 0.9992 - val_loss: 0.0106 - val_accuracy: 0.9990\n",
      "Epoch 10/10\n",
      "625/625 [==============================] - 156s 249ms/step - loss: 0.0086 - accuracy: 0.9998 - val_loss: 0.0082 - val_accuracy: 1.0000\n"
     ]
    },
    {
     "data": {
      "text/plain": [
       "<keras.callbacks.History at 0x111494e51c0>"
      ]
     },
     "execution_count": 21,
     "metadata": {},
     "output_type": "execute_result"
    }
   ],
   "source": [
    "model.fit(train_image_gen, validation_data=test_image_gen, epochs=10)"
   ]
  },
  {
   "cell_type": "code",
   "execution_count": 22,
   "id": "f232e241",
   "metadata": {},
   "outputs": [],
   "source": [
    "history_df = pd.DataFrame(model.history.history)"
   ]
  },
  {
   "cell_type": "code",
   "execution_count": 23,
   "id": "3f57b843",
   "metadata": {},
   "outputs": [
    {
     "data": {
      "text/plain": [
       "<Axes: >"
      ]
     },
     "execution_count": 23,
     "metadata": {},
     "output_type": "execute_result"
    },
    {
     "data": {
      "image/png": "[encoded data removed]",
      "text/plain": [
       "<Figure size 640x480 with 1 Axes>"
      ]
     },
     "metadata": {},
     "output_type": "display_data"
    }
   ],
   "source": [
    "history_df[['loss', 'val_loss']].plot()"
   ]
  },
  {
   "cell_type": "code",
   "execution_count": 24,
   "id": "7b67bc28",
   "metadata": {},
   "outputs": [
    {
     "data": {
      "text/plain": [
       "<Axes: >"
      ]
     },
     "execution_count": 24,
     "metadata": {},
     "output_type": "execute_result"
    },
    {
     "data": {
      "image/png": "[encoded data removed]",
      "text/plain": [
       "<Figure size 640x480 with 1 Axes>"
      ]
     },
     "metadata": {},
     "output_type": "display_data"
    }
   ],
   "source": [
    "history_df[['accuracy', 'val_accuracy']].plot()"
   ]
  },
  {
   "cell_type": "markdown",
   "id": "49f89dd4",
   "metadata": {},
   "source": [
    "## Evaluating the model"
   ]
  },
  {
   "cell_type": "code",
   "execution_count": 25,
   "id": "3c0b343f",
   "metadata": {},
   "outputs": [
    {
     "name": "stdout",
     "output_type": "stream",
     "text": [
      "625/625 [==============================] - 145s 231ms/step - loss: 0.0080 - accuracy: 0.9998\n"
     ]
    },
    {
     "data": {
      "text/plain": [
       "0.9998000264167786"
      ]
     },
     "execution_count": 25,
     "metadata": {},
     "output_type": "execute_result"
    }
   ],
   "source": [
    "model.evaluate(train_image_gen)[1]"
   ]
  },
  {
   "cell_type": "code",
   "execution_count": 26,
   "id": "26a56806",
   "metadata": {},
   "outputs": [
    {
     "name": "stdout",
     "output_type": "stream",
     "text": [
      "125/125 [==============================] - 32s 253ms/step - loss: 0.0106 - accuracy: 0.9985\n"
     ]
    },
    {
     "data": {
      "text/plain": [
       "0.9984999895095825"
      ]
     },
     "execution_count": 26,
     "metadata": {},
     "output_type": "execute_result"
    }
   ],
   "source": [
    "model.evaluate(test_image_gen)[1]"
   ]
  },
  {
   "cell_type": "markdown",
   "id": "9fd2e8fd",
   "metadata": {},
   "source": [
    "## Predicting on a sample image"
   ]
  },
  {
   "cell_type": "code",
   "execution_count": 27,
   "id": "bf88ff30",
   "metadata": {},
   "outputs": [],
   "source": [
    "sample_img_load = image.load_img('./image_dataset/test/not_leaf/250627.png', target_size=correct_image_shape)"
   ]
  },
  {
   "cell_type": "code",
   "execution_count": 28,
   "id": "f8c9637d",
   "metadata": {},
   "outputs": [
    {
     "data": {
      "image/jpeg": "[encoded data removed]",
      "image/png": "[encoded data removed]",
      "text/plain": [
       "<PIL.Image.Image image mode=RGB size=224x224>"
      ]
     },
     "execution_count": 28,
     "metadata": {},
     "output_type": "execute_result"
    }
   ],
   "source": [
    "sample_img_load"
   ]
  },
  {
   "cell_type": "code",
   "execution_count": 29,
   "id": "df0ea3eb",
   "metadata": {},
   "outputs": [],
   "source": [
    "sample_img_to_arr = image.img_to_array(sample_img_load) "
   ]
  },
  {
   "cell_type": "code",
   "execution_count": 30,
   "id": "e0c72eb4",
   "metadata": {},
   "outputs": [],
   "source": [
    "sample_img_to_arr = image.img_to_array(sample_img_load) / 255"
   ]
  },
  {
   "cell_type": "code",
   "execution_count": 31,
   "id": "970abd88",
   "metadata": {},
   "outputs": [],
   "source": [
    "sample_img_to_arr_expand_dim = np.expand_dims(sample_img_to_arr, 0) "
   ]
  },
  {
   "cell_type": "code",
   "execution_count": 32,
   "id": "349a8c94",
   "metadata": {},
   "outputs": [
    {
     "name": "stdout",
     "output_type": "stream",
     "text": [
      "1/1 [==============================] - 2s 2s/step\n"
     ]
    }
   ],
   "source": [
    "prediction = (model.predict(sample_img_to_arr_expand_dim) > 0.5).astype('int32')"
   ]
  },
  {
   "cell_type": "code",
   "execution_count": 33,
   "id": "423e0545",
   "metadata": {},
   "outputs": [],
   "source": [
    "class_names = ['leaf', 'not_leaf']"
   ]
  },
  {
   "cell_type": "code",
   "execution_count": 34,
   "id": "d99bf685",
   "metadata": {},
   "outputs": [],
   "source": [
    "pred_final_result = class_names[prediction[0][0]]"
   ]
  },
  {
   "cell_type": "code",
   "execution_count": 35,
   "id": "b1289a30",
   "metadata": {},
   "outputs": [
    {
     "data": {
      "text/plain": [
       "'not_leaf'"
      ]
     },
     "execution_count": 35,
     "metadata": {},
     "output_type": "execute_result"
    }
   ],
   "source": [
    "pred_final_result"
   ]
  },
  {
   "cell_type": "markdown",
   "id": "d96f2cf6",
   "metadata": {},
   "source": [
    "## Save the model"
   ]
  },
  {
   "cell_type": "code",
   "execution_count": 36,
   "id": "db01122c",
   "metadata": {},
   "outputs": [
    {
     "name": "stdout",
     "output_type": "stream",
     "text": [
      "INFO:tensorflow:Assets written to: inceptionV2_model\\assets\n"
     ]
    },
    {
     "name": "stderr",
     "output_type": "stream",
     "text": [
      "INFO:tensorflow:Assets written to: inceptionV2_model\\assets\n"
     ]
    }
   ],
   "source": [
    "save_model(model, 'inceptionV2_model')"
   ]
  }
 ],
 "metadata": {
  "kernelspec": {
   "display_name": "Python 3 (ipykernel)",
   "language": "python",
   "name": "python3"
  },
  "language_info": {
   "codemirror_mode": {
    "name": "ipython",
    "version": 3
   },
   "file_extension": ".py",
   "mimetype": "text/x-python",
   "name": "python",
   "nbconvert_exporter": "python",
   "pygments_lexer": "ipython3",
   "version": "3.9.7"
  }
 },
 "nbformat": 4,
 "nbformat_minor": 5
}
