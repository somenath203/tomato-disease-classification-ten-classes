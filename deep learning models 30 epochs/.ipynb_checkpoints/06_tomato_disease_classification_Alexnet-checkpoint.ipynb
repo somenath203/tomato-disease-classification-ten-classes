{
 "cells": [
  {
   "cell_type": "code",
   "execution_count": 1,
   "id": "93a2018d-57f2-425e-b2b4-2b6001f844ab",
   "metadata": {
    "run_control": {
     "marked": false
    }
   },
   "outputs": [],
   "source": [
    "import os\n",
    "import numpy as np\n",
    "import scipy\n",
    "import pandas as pd\n",
    "import matplotlib.pyplot as plt\n",
    "%matplotlib inline\n",
    "from matplotlib.image import imread\n",
    "from tensorflow.keras.preprocessing.image import ImageDataGenerator\n",
    "from tensorflow.keras.models import Sequential, save_model\n",
    "from tensorflow.keras.regularizers import l2\n",
    "from tensorflow.keras.optimizers import Adam\n",
    "from tensorflow.keras.layers import Dense, Conv2D, Flatten, MaxPooling2D, Dropout, BatchNormalization\n",
    "from tensorflow.keras.losses import CategoricalCrossentropy\n",
    "from tensorflow.keras.preprocessing import image"
   ]
  },
  {
   "cell_type": "code",
   "execution_count": 2,
   "id": "f514276e-145e-4e3b-bf7d-1688292348bc",
   "metadata": {},
   "outputs": [],
   "source": [
    "dataset_directory_location = 'tomato_dataset'"
   ]
  },
  {
   "cell_type": "code",
   "execution_count": 3,
   "id": "596d228e-095f-488b-a91a-09c7f14c2f3c",
   "metadata": {},
   "outputs": [
    {
     "data": {
      "text/plain": [
       "['test', 'train']"
      ]
     },
     "execution_count": 3,
     "metadata": {},
     "output_type": "execute_result"
    }
   ],
   "source": [
    "os.listdir(dataset_directory_location)"
   ]
  },
  {
   "cell_type": "code",
   "execution_count": 4,
   "id": "c572057e-70b6-4363-8713-b0b5cd82e36f",
   "metadata": {},
   "outputs": [],
   "source": [
    "train_dataset_location = os.path.join(dataset_directory_location, 'train')\n",
    "test_dataset_location = os.path.join(dataset_directory_location, 'test')"
   ]
  },
  {
   "cell_type": "code",
   "execution_count": 5,
   "id": "75d7b3ea-4394-4d1d-a9e3-88620d9650cf",
   "metadata": {},
   "outputs": [
    {
     "data": {
      "text/plain": [
       "['Tomato___Bacterial_spot',\n",
       " 'Tomato___Early_blight',\n",
       " 'Tomato___healthy',\n",
       " 'Tomato___Late_blight',\n",
       " 'Tomato___Leaf_Mold',\n",
       " 'Tomato___Septoria_leaf_spot',\n",
       " 'Tomato___Spider_mites Two-spotted_spider_mite',\n",
       " 'Tomato___Target_Spot',\n",
       " 'Tomato___Tomato_mosaic_virus',\n",
       " 'Tomato___Tomato_Yellow_Leaf_Curl_Virus']"
      ]
     },
     "execution_count": 5,
     "metadata": {},
     "output_type": "execute_result"
    }
   ],
   "source": [
    "os.listdir(train_dataset_location)"
   ]
  },
  {
   "cell_type": "code",
   "execution_count": 6,
   "id": "cc35ce08-00e6-40c2-b785-feaf4cb9c0d4",
   "metadata": {},
   "outputs": [
    {
     "data": {
      "text/plain": [
       "['Tomato___Bacterial_spot',\n",
       " 'Tomato___Early_blight',\n",
       " 'Tomato___healthy',\n",
       " 'Tomato___Late_blight',\n",
       " 'Tomato___Leaf_Mold',\n",
       " 'Tomato___Septoria_leaf_spot',\n",
       " 'Tomato___Spider_mites Two-spotted_spider_mite',\n",
       " 'Tomato___Target_Spot',\n",
       " 'Tomato___Tomato_mosaic_virus',\n",
       " 'Tomato___Tomato_Yellow_Leaf_Curl_Virus']"
      ]
     },
     "execution_count": 6,
     "metadata": {},
     "output_type": "execute_result"
    }
   ],
   "source": [
    "os.listdir(test_dataset_location)"
   ]
  },
  {
   "cell_type": "code",
   "execution_count": 7,
   "id": "0e7750b6-9170-4aad-bdab-dbf891af85fe",
   "metadata": {},
   "outputs": [],
   "source": [
    "correct_image_shape = (227, 227, 3)"
   ]
  },
  {
   "cell_type": "code",
   "execution_count": 8,
   "id": "c77e8d67-3245-46ff-a858-32e9da2557d4",
   "metadata": {},
   "outputs": [],
   "source": [
    "image_gen = ImageDataGenerator(rotation_range=20, \n",
    "                               width_shift_range=0.1, \n",
    "                               height_shift_range=0.1, \n",
    "                               shear_range=0.1, \n",
    "                               zoom_range=0.1, \n",
    "                               horizontal_flip=True, \n",
    "                               fill_mode='nearest',\n",
    "                               rescale=1./255)"
   ]
  },
  {
   "cell_type": "code",
   "execution_count": 9,
   "id": "624f1d83-d128-4103-ae92-8e66065ffc08",
   "metadata": {
    "tags": []
   },
   "outputs": [
    {
     "name": "stdout",
     "output_type": "stream",
     "text": [
      "Found 10000 images belonging to 10 classes.\n",
      "Found 1000 images belonging to 10 classes.\n"
     ]
    }
   ],
   "source": [
    "train_image_gen = image_gen.flow_from_directory(train_dataset_location, \n",
    "                                                target_size=correct_image_shape[:2], \n",
    "                                                color_mode='rgb', \n",
    "                                                batch_size=16, \n",
    "                                                class_mode='categorical')\n",
    "\n",
    "test_image_gen = image_gen.flow_from_directory(test_dataset_location, \n",
    "                                                target_size=correct_image_shape[:2], \n",
    "                                                color_mode='rgb', \n",
    "                                                batch_size=16, \n",
    "                                                class_mode='categorical')"
   ]
  },
  {
   "cell_type": "code",
   "execution_count": 10,
   "id": "09ee1ce8-3cf2-43b9-b707-d2108d7ce4b0",
   "metadata": {},
   "outputs": [
    {
     "data": {
      "text/plain": [
       "{'Tomato___Bacterial_spot': 0,\n",
       " 'Tomato___Early_blight': 1,\n",
       " 'Tomato___Late_blight': 2,\n",
       " 'Tomato___Leaf_Mold': 3,\n",
       " 'Tomato___Septoria_leaf_spot': 4,\n",
       " 'Tomato___Spider_mites Two-spotted_spider_mite': 5,\n",
       " 'Tomato___Target_Spot': 6,\n",
       " 'Tomato___Tomato_Yellow_Leaf_Curl_Virus': 7,\n",
       " 'Tomato___Tomato_mosaic_virus': 8,\n",
       " 'Tomato___healthy': 9}"
      ]
     },
     "execution_count": 10,
     "metadata": {},
     "output_type": "execute_result"
    }
   ],
   "source": [
    "train_image_gen.class_indices"
   ]
  },
  {
   "cell_type": "code",
   "execution_count": 11,
   "id": "d3cd4cf4-6576-426c-8af7-05343e1bf033",
   "metadata": {},
   "outputs": [
    {
     "data": {
      "text/plain": [
       "{'Tomato___Bacterial_spot': 0,\n",
       " 'Tomato___Early_blight': 1,\n",
       " 'Tomato___Late_blight': 2,\n",
       " 'Tomato___Leaf_Mold': 3,\n",
       " 'Tomato___Septoria_leaf_spot': 4,\n",
       " 'Tomato___Spider_mites Two-spotted_spider_mite': 5,\n",
       " 'Tomato___Target_Spot': 6,\n",
       " 'Tomato___Tomato_Yellow_Leaf_Curl_Virus': 7,\n",
       " 'Tomato___Tomato_mosaic_virus': 8,\n",
       " 'Tomato___healthy': 9}"
      ]
     },
     "execution_count": 11,
     "metadata": {},
     "output_type": "execute_result"
    }
   ],
   "source": [
    "test_image_gen.class_indices"
   ]
  },
  {
   "cell_type": "code",
   "execution_count": 12,
   "id": "eb73f752-34c9-47ef-b54d-721303bd26d8",
   "metadata": {},
   "outputs": [],
   "source": [
    "model = Sequential()"
   ]
  },
  {
   "cell_type": "code",
   "execution_count": 13,
   "id": "81a74f49",
   "metadata": {},
   "outputs": [],
   "source": [
    "model.add(Conv2D(filters=96, kernel_size=(11,11), strides=(4,4), activation='relu', input_shape=correct_image_shape))\n",
    "\n",
    "model.add(MaxPooling2D(pool_size=(3,3), strides=(2,2)))\n",
    "\n",
    "model.add(Conv2D(filters=256, kernel_size=(5,5), strides=(1,1), activation='relu', padding=\"same\"))\n",
    "\n",
    "model.add(MaxPooling2D(pool_size=(3,3), strides=(2,2)))\n",
    "\n",
    "model.add(Conv2D(filters=384, kernel_size=(3,3), strides=(1,1), activation='relu', padding=\"same\"))\n",
    "\n",
    "model.add(Conv2D(filters=384, kernel_size=(3,3), strides=(1,1), activation='relu', padding=\"same\"))\n",
    "\n",
    "model.add(Conv2D(filters=256, kernel_size=(3,3), strides=(1,1), activation='relu', padding=\"same\"))\n",
    "\n",
    "model.add(MaxPooling2D(pool_size=(3,3), strides=(2,2)))\n",
    "\n",
    "model.add(Flatten())\n",
    "\n",
    "model.add(Dense(4096, activation='relu'))\n",
    "\n",
    "model.add(Dropout(0.5))\n",
    "\n",
    "model.add(Dense(4096, activation='relu'))\n",
    "\n",
    "model.add(Dropout(0.5))\n",
    "\n",
    "model.add(Dense(10, activation='softmax'))"
   ]
  },
  {
   "cell_type": "code",
   "execution_count": 14,
   "id": "ce0be2e9-5ea6-428b-8754-fb8e5321666e",
   "metadata": {},
   "outputs": [
    {
     "name": "stdout",
     "output_type": "stream",
     "text": [
      "Model: \"sequential\"\n",
      "_________________________________________________________________\n",
      " Layer (type)                Output Shape              Param #   \n",
      "=================================================================\n",
      " conv2d (Conv2D)             (None, 55, 55, 96)        34944     \n",
      "                                                                 \n",
      " max_pooling2d (MaxPooling2D  (None, 27, 27, 96)       0         \n",
      " )                                                               \n",
      "                                                                 \n",
      " conv2d_1 (Conv2D)           (None, 27, 27, 256)       614656    \n",
      "                                                                 \n",
      " max_pooling2d_1 (MaxPooling  (None, 13, 13, 256)      0         \n",
      " 2D)                                                             \n",
      "                                                                 \n",
      " conv2d_2 (Conv2D)           (None, 13, 13, 384)       885120    \n",
      "                                                                 \n",
      " conv2d_3 (Conv2D)           (None, 13, 13, 384)       1327488   \n",
      "                                                                 \n",
      " conv2d_4 (Conv2D)           (None, 13, 13, 256)       884992    \n",
      "                                                                 \n",
      " max_pooling2d_2 (MaxPooling  (None, 6, 6, 256)        0         \n",
      " 2D)                                                             \n",
      "                                                                 \n",
      " flatten (Flatten)           (None, 9216)              0         \n",
      "                                                                 \n",
      " dense (Dense)               (None, 4096)              37752832  \n",
      "                                                                 \n",
      " dropout (Dropout)           (None, 4096)              0         \n",
      "                                                                 \n",
      " dense_1 (Dense)             (None, 4096)              16781312  \n",
      "                                                                 \n",
      " dropout_1 (Dropout)         (None, 4096)              0         \n",
      "                                                                 \n",
      " dense_2 (Dense)             (None, 10)                40970     \n",
      "                                                                 \n",
      "=================================================================\n",
      "Total params: 58,322,314\n",
      "Trainable params: 58,322,314\n",
      "Non-trainable params: 0\n",
      "_________________________________________________________________\n"
     ]
    }
   ],
   "source": [
    "model.summary()"
   ]
  },
  {
   "cell_type": "code",
   "execution_count": 15,
   "id": "bb28da58-9405-4d73-9c9d-c36c9eef7fdb",
   "metadata": {},
   "outputs": [],
   "source": [
    "model.compile(loss=CategoricalCrossentropy(), optimizer=Adam(learning_rate=2e-5), metrics=['accuracy'])"
   ]
  },
  {
   "cell_type": "code",
   "execution_count": null,
   "id": "bc4b54f8-539c-40db-98ff-18c6caeecbca",
   "metadata": {},
   "outputs": [
    {
     "name": "stdout",
     "output_type": "stream",
     "text": [
      "Epoch 1/30\n",
      "625/625 [==============================] - 181s 260ms/step - loss: 2.0573 - accuracy: 0.2294 - val_loss: 1.5585 - val_accuracy: 0.4490\n",
      "Epoch 2/30\n",
      "215/625 [=========>....................] - ETA: 1:58 - loss: 1.5228 - accuracy: 0.4576"
     ]
    }
   ],
   "source": [
    "model.fit(train_image_gen, validation_data=test_image_gen, epochs=30)"
   ]
  },
  {
   "cell_type": "code",
   "execution_count": null,
   "id": "a328b1d0-a85e-4e7f-a9a3-e21bc4bcc934",
   "metadata": {},
   "outputs": [],
   "source": [
    "history_df = pd.DataFrame(model.history.history)"
   ]
  },
  {
   "cell_type": "code",
   "execution_count": null,
   "id": "6efe0140",
   "metadata": {},
   "outputs": [],
   "source": [
    "history_df[['loss', 'val_loss']].plot()"
   ]
  },
  {
   "cell_type": "code",
   "execution_count": null,
   "id": "63d1e5ae",
   "metadata": {},
   "outputs": [],
   "source": [
    "history_df[['accuracy', 'val_accuracy']].plot()"
   ]
  },
  {
   "cell_type": "code",
   "execution_count": null,
   "id": "624b75cd-c7f7-4381-829f-90bde8ad2c9b",
   "metadata": {},
   "outputs": [],
   "source": [
    "model.evaluate(train_image_gen)[1]"
   ]
  },
  {
   "cell_type": "code",
   "execution_count": null,
   "id": "45b13241-479e-4313-a8d9-d43d1eaecf33",
   "metadata": {},
   "outputs": [],
   "source": [
    "model.evaluate(test_image_gen)[1]"
   ]
  },
  {
   "cell_type": "code",
   "execution_count": null,
   "id": "1cf098a9-c68f-4bb9-9651-796cb66db865",
   "metadata": {},
   "outputs": [],
   "source": [
    "sample_img_load = image.load_img('./tomato_dataset/test/Tomato___Leaf_Mold/0a555f63-bf03-4958-8993-e1932b8dce9f___Crnl_L.Mold 9064.JPG', target_size=correct_image_shape)"
   ]
  },
  {
   "cell_type": "code",
   "execution_count": null,
   "id": "2c75c87b-cdff-4d75-b3c3-4ea2fe6b4485",
   "metadata": {},
   "outputs": [],
   "source": [
    "sample_img_to_arr = image.img_to_array(sample_img_load) / 255"
   ]
  },
  {
   "cell_type": "code",
   "execution_count": null,
   "id": "6b8af6fd-2be9-4f04-8c5a-aa935fdc8a19",
   "metadata": {},
   "outputs": [],
   "source": [
    "sample_img_to_arr_expand_dim = np.expand_dims(sample_img_to_arr, 0) "
   ]
  },
  {
   "cell_type": "code",
   "execution_count": null,
   "id": "298937ff-8055-475a-81fa-a8119ce40d6b",
   "metadata": {},
   "outputs": [],
   "source": [
    "prediction = model.predict(sample_img_to_arr_expand_dim)[0]"
   ]
  },
  {
   "cell_type": "code",
   "execution_count": null,
   "id": "1f9b3eaf-a5a5-4534-b1f3-84259727c7cb",
   "metadata": {},
   "outputs": [],
   "source": [
    "pred_result = np.argmax(prediction)"
   ]
  },
  {
   "cell_type": "code",
   "execution_count": null,
   "id": "94a47be3-86c3-4c34-b61f-09b18008a294",
   "metadata": {},
   "outputs": [],
   "source": [
    "save_model(model, 'alexnet_model')"
   ]
  }
 ],
 "metadata": {
  "kernelspec": {
   "display_name": "Python 3 (ipykernel)",
   "language": "python",
   "name": "python3"
  },
  "language_info": {
   "codemirror_mode": {
    "name": "ipython",
    "version": 3
   },
   "file_extension": ".py",
   "mimetype": "text/x-python",
   "name": "python",
   "nbconvert_exporter": "python",
   "pygments_lexer": "ipython3",
   "version": "3.9.7"
  }
 },
 "nbformat": 4,
 "nbformat_minor": 5
}
