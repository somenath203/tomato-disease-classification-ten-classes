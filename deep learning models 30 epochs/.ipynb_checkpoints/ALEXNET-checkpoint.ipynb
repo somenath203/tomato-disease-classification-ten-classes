{
 "cells": [
  {
   "cell_type": "code",
   "execution_count": 22,
   "id": "93a2018d-57f2-425e-b2b4-2b6001f844ab",
   "metadata": {},
   "outputs": [],
   "source": [
    "import os\n",
    "import numpy as np\n",
    "import scipy\n",
    "import pandas as pd\n",
    "import matplotlib.pyplot as plt\n",
    "%matplotlib inline\n",
    "from matplotlib.image import imread\n",
    "import tensorflow as tf\n",
    "from tensorflow import keras\n",
    "from keras.preprocessing.image import ImageDataGenerator\n",
    "from keras.models import Sequential\n",
    "from keras.regularizers import l2\n",
    "from keras.optimizers import Adam\n",
    "from keras.callbacks import EarlyStopping\n",
    "from keras.layers import Dense, Conv2D, Flatten, MaxPooling2D, Dropout, BatchNormalization\n",
    "from keras.losses import CategoricalCrossentropy\n",
    "from tensorflow.keras.preprocessing import image"
   ]
  },
  {
   "cell_type": "code",
   "execution_count": 2,
   "id": "f514276e-145e-4e3b-bf7d-1688292348bc",
   "metadata": {},
   "outputs": [],
   "source": [
    "dataset_directory_location = 'tomato_dataset'"
   ]
  },
  {
   "cell_type": "code",
   "execution_count": 3,
   "id": "596d228e-095f-488b-a91a-09c7f14c2f3c",
   "metadata": {},
   "outputs": [
    {
     "data": {
      "text/plain": [
       "['test', 'train']"
      ]
     },
     "execution_count": 3,
     "metadata": {},
     "output_type": "execute_result"
    }
   ],
   "source": [
    "os.listdir(dataset_directory_location)"
   ]
  },
  {
   "cell_type": "code",
   "execution_count": 4,
   "id": "c572057e-70b6-4363-8713-b0b5cd82e36f",
   "metadata": {},
   "outputs": [],
   "source": [
    "train_dataset_location = os.path.join(dataset_directory_location, 'train')\n",
    "test_dataset_location = os.path.join(dataset_directory_location, 'test')"
   ]
  },
  {
   "cell_type": "code",
   "execution_count": 5,
   "id": "75d7b3ea-4394-4d1d-a9e3-88620d9650cf",
   "metadata": {},
   "outputs": [
    {
     "data": {
      "text/plain": [
       "['Tomato___Bacterial_spot',\n",
       " 'Tomato___Early_blight',\n",
       " 'Tomato___healthy',\n",
       " 'Tomato___Late_blight',\n",
       " 'Tomato___Leaf_Mold',\n",
       " 'Tomato___Septoria_leaf_spot',\n",
       " 'Tomato___Spider_mites Two-spotted_spider_mite',\n",
       " 'Tomato___Target_Spot',\n",
       " 'Tomato___Tomato_mosaic_virus',\n",
       " 'Tomato___Tomato_Yellow_Leaf_Curl_Virus']"
      ]
     },
     "execution_count": 5,
     "metadata": {},
     "output_type": "execute_result"
    }
   ],
   "source": [
    "os.listdir(train_dataset_location)"
   ]
  },
  {
   "cell_type": "code",
   "execution_count": 6,
   "id": "cc35ce08-00e6-40c2-b785-feaf4cb9c0d4",
   "metadata": {},
   "outputs": [
    {
     "data": {
      "text/plain": [
       "['Tomato___Bacterial_spot',\n",
       " 'Tomato___Early_blight',\n",
       " 'Tomato___healthy',\n",
       " 'Tomato___Late_blight',\n",
       " 'Tomato___Leaf_Mold',\n",
       " 'Tomato___Septoria_leaf_spot',\n",
       " 'Tomato___Spider_mites Two-spotted_spider_mite',\n",
       " 'Tomato___Target_Spot',\n",
       " 'Tomato___Tomato_mosaic_virus',\n",
       " 'Tomato___Tomato_Yellow_Leaf_Curl_Virus']"
      ]
     },
     "execution_count": 6,
     "metadata": {},
     "output_type": "execute_result"
    }
   ],
   "source": [
    "os.listdir(test_dataset_location)"
   ]
  },
  {
   "cell_type": "code",
   "execution_count": 7,
   "id": "0e7750b6-9170-4aad-bdab-dbf891af85fe",
   "metadata": {},
   "outputs": [],
   "source": [
    "correct_image_shape = (227, 227, 3)"
   ]
  },
  {
   "cell_type": "code",
   "execution_count": 8,
   "id": "c77e8d67-3245-46ff-a858-32e9da2557d4",
   "metadata": {},
   "outputs": [],
   "source": [
    "image_gen = ImageDataGenerator(rotation_range=20, \n",
    "                               width_shift_range=0.1, \n",
    "                               height_shift_range=0.1, \n",
    "                               shear_range=0.1, \n",
    "                               zoom_range=0.1, \n",
    "                               horizontal_flip=True, \n",
    "                               fill_mode='nearest',\n",
    "                               rescale=1./255)"
   ]
  },
  {
   "cell_type": "code",
   "execution_count": 9,
   "id": "624f1d83-d128-4103-ae92-8e66065ffc08",
   "metadata": {
    "tags": []
   },
   "outputs": [
    {
     "name": "stdout",
     "output_type": "stream",
     "text": [
      "Found 10000 images belonging to 10 classes.\n",
      "Found 1000 images belonging to 10 classes.\n"
     ]
    }
   ],
   "source": [
    "train_image_gen = image_gen.flow_from_directory(train_dataset_location, \n",
    "                                                target_size=correct_image_shape[:2], \n",
    "                                                color_mode='rgb', \n",
    "                                                batch_size=16, \n",
    "                                                class_mode='categorical')\n",
    "\n",
    "test_image_gen = image_gen.flow_from_directory(test_dataset_location, \n",
    "                                                target_size=correct_image_shape[:2], \n",
    "                                                color_mode='rgb', \n",
    "                                                batch_size=16, \n",
    "                                                class_mode='categorical')"
   ]
  },
  {
   "cell_type": "code",
   "execution_count": 10,
   "id": "09ee1ce8-3cf2-43b9-b707-d2108d7ce4b0",
   "metadata": {},
   "outputs": [
    {
     "data": {
      "text/plain": [
       "{'Tomato___Bacterial_spot': 0,\n",
       " 'Tomato___Early_blight': 1,\n",
       " 'Tomato___Late_blight': 2,\n",
       " 'Tomato___Leaf_Mold': 3,\n",
       " 'Tomato___Septoria_leaf_spot': 4,\n",
       " 'Tomato___Spider_mites Two-spotted_spider_mite': 5,\n",
       " 'Tomato___Target_Spot': 6,\n",
       " 'Tomato___Tomato_Yellow_Leaf_Curl_Virus': 7,\n",
       " 'Tomato___Tomato_mosaic_virus': 8,\n",
       " 'Tomato___healthy': 9}"
      ]
     },
     "execution_count": 10,
     "metadata": {},
     "output_type": "execute_result"
    }
   ],
   "source": [
    "train_image_gen.class_indices"
   ]
  },
  {
   "cell_type": "code",
   "execution_count": 11,
   "id": "d3cd4cf4-6576-426c-8af7-05343e1bf033",
   "metadata": {},
   "outputs": [
    {
     "data": {
      "text/plain": [
       "{'Tomato___Bacterial_spot': 0,\n",
       " 'Tomato___Early_blight': 1,\n",
       " 'Tomato___Late_blight': 2,\n",
       " 'Tomato___Leaf_Mold': 3,\n",
       " 'Tomato___Septoria_leaf_spot': 4,\n",
       " 'Tomato___Spider_mites Two-spotted_spider_mite': 5,\n",
       " 'Tomato___Target_Spot': 6,\n",
       " 'Tomato___Tomato_Yellow_Leaf_Curl_Virus': 7,\n",
       " 'Tomato___Tomato_mosaic_virus': 8,\n",
       " 'Tomato___healthy': 9}"
      ]
     },
     "execution_count": 11,
     "metadata": {},
     "output_type": "execute_result"
    }
   ],
   "source": [
    "test_image_gen.class_indices"
   ]
  },
  {
   "cell_type": "code",
   "execution_count": 12,
   "id": "eb73f752-34c9-47ef-b54d-721303bd26d8",
   "metadata": {},
   "outputs": [],
   "source": [
    "model = Sequential()\n",
    "model.add(Conv2D(filters=96, kernel_size=(11,11), strides=(4,4), activation='relu', input_shape=correct_image_shape))\n",
    "model.add(MaxPooling2D(pool_size=(3,3), strides=(2,2)))\n",
    "model.add(Conv2D(filters=256, kernel_size=(5,5), strides=(1,1), activation='relu', padding=\"same\"))\n",
    "model.add(MaxPooling2D(pool_size=(3,3), strides=(2,2)))\n",
    "model.add(Conv2D(filters=384, kernel_size=(3,3), strides=(1,1), activation='relu', padding=\"same\"))\n",
    "model.add(Conv2D(filters=384, kernel_size=(3,3), strides=(1,1), activation='relu', padding=\"same\"))\n",
    "model.add(Conv2D(filters=256, kernel_size=(3,3), strides=(1,1), activation='relu', padding=\"same\"))\n",
    "model.add(MaxPooling2D(pool_size=(3,3), strides=(2,2)))\n",
    "model.add(Flatten())\n",
    "model.add(Dense(4096, activation='relu'))\n",
    "model.add(Dropout(0.5))\n",
    "model.add(Dense(4096, activation='relu'))\n",
    "model.add(Dropout(0.5))\n",
    "model.add(Dense(10, activation='softmax'))"
   ]
  },
  {
   "cell_type": "code",
   "execution_count": 13,
   "id": "ce0be2e9-5ea6-428b-8754-fb8e5321666e",
   "metadata": {},
   "outputs": [
    {
     "name": "stdout",
     "output_type": "stream",
     "text": [
      "Model: \"sequential\"\n",
      "_________________________________________________________________\n",
      " Layer (type)                Output Shape              Param #   \n",
      "=================================================================\n",
      " conv2d (Conv2D)             (None, 55, 55, 96)        34944     \n",
      "                                                                 \n",
      " max_pooling2d (MaxPooling2D  (None, 27, 27, 96)       0         \n",
      " )                                                               \n",
      "                                                                 \n",
      " conv2d_1 (Conv2D)           (None, 27, 27, 256)       614656    \n",
      "                                                                 \n",
      " max_pooling2d_1 (MaxPooling  (None, 13, 13, 256)      0         \n",
      " 2D)                                                             \n",
      "                                                                 \n",
      " conv2d_2 (Conv2D)           (None, 13, 13, 384)       885120    \n",
      "                                                                 \n",
      " conv2d_3 (Conv2D)           (None, 13, 13, 384)       1327488   \n",
      "                                                                 \n",
      " conv2d_4 (Conv2D)           (None, 13, 13, 256)       884992    \n",
      "                                                                 \n",
      " max_pooling2d_2 (MaxPooling  (None, 6, 6, 256)        0         \n",
      " 2D)                                                             \n",
      "                                                                 \n",
      " flatten (Flatten)           (None, 9216)              0         \n",
      "                                                                 \n",
      " dense (Dense)               (None, 4096)              37752832  \n",
      "                                                                 \n",
      " dropout (Dropout)           (None, 4096)              0         \n",
      "                                                                 \n",
      " dense_1 (Dense)             (None, 4096)              16781312  \n",
      "                                                                 \n",
      " dropout_1 (Dropout)         (None, 4096)              0         \n",
      "                                                                 \n",
      " dense_2 (Dense)             (None, 10)                40970     \n",
      "                                                                 \n",
      "=================================================================\n",
      "Total params: 58,322,314\n",
      "Trainable params: 58,322,314\n",
      "Non-trainable params: 0\n",
      "_________________________________________________________________\n"
     ]
    }
   ],
   "source": [
    "model.summary()"
   ]
  },
  {
   "cell_type": "code",
   "execution_count": 14,
   "id": "bb28da58-9405-4d73-9c9d-c36c9eef7fdb",
   "metadata": {},
   "outputs": [],
   "source": [
    "model.compile(loss=CategoricalCrossentropy(), optimizer=Adam(learning_rate=2e-5), metrics=['accuracy'])"
   ]
  },
  {
   "cell_type": "code",
   "execution_count": 15,
   "id": "bc4b54f8-539c-40db-98ff-18c6caeecbca",
   "metadata": {},
   "outputs": [
    {
     "name": "stdout",
     "output_type": "stream",
     "text": [
      "Epoch 1/30\n",
      "625/625 [==============================] - 184s 259ms/step - loss: 1.9320 - accuracy: 0.2753 - val_loss: 1.2729 - val_accuracy: 0.5660\n",
      "Epoch 2/30\n",
      "625/625 [==============================] - 152s 244ms/step - loss: 1.0929 - accuracy: 0.6078 - val_loss: 0.8768 - val_accuracy: 0.6900\n",
      "Epoch 3/30\n",
      "625/625 [==============================] - 151s 242ms/step - loss: 0.8089 - accuracy: 0.7087 - val_loss: 0.7412 - val_accuracy: 0.7350\n",
      "Epoch 4/30\n",
      "625/625 [==============================] - 152s 244ms/step - loss: 0.6837 - accuracy: 0.7558 - val_loss: 0.5984 - val_accuracy: 0.7850\n",
      "Epoch 5/30\n",
      "625/625 [==============================] - 148s 237ms/step - loss: 0.5959 - accuracy: 0.7848 - val_loss: 0.4958 - val_accuracy: 0.8260\n",
      "Epoch 6/30\n",
      "625/625 [==============================] - 148s 236ms/step - loss: 0.5289 - accuracy: 0.8084 - val_loss: 0.4590 - val_accuracy: 0.8380\n",
      "Epoch 7/30\n",
      "625/625 [==============================] - 148s 236ms/step - loss: 0.4675 - accuracy: 0.8334 - val_loss: 0.4083 - val_accuracy: 0.8660\n",
      "Epoch 8/30\n",
      "625/625 [==============================] - 147s 236ms/step - loss: 0.4251 - accuracy: 0.8486 - val_loss: 0.4133 - val_accuracy: 0.8530\n",
      "Epoch 9/30\n",
      "625/625 [==============================] - 146s 234ms/step - loss: 0.3928 - accuracy: 0.8587 - val_loss: 0.3624 - val_accuracy: 0.8870\n",
      "Epoch 10/30\n",
      "625/625 [==============================] - 147s 236ms/step - loss: 0.3724 - accuracy: 0.8698 - val_loss: 0.4528 - val_accuracy: 0.8360\n",
      "Epoch 11/30\n",
      "625/625 [==============================] - 147s 234ms/step - loss: 0.3360 - accuracy: 0.8864 - val_loss: 0.4428 - val_accuracy: 0.8600\n",
      "Epoch 12/30\n",
      "625/625 [==============================] - 148s 236ms/step - loss: 0.3027 - accuracy: 0.8925 - val_loss: 0.3604 - val_accuracy: 0.8750\n",
      "Epoch 13/30\n",
      "625/625 [==============================] - 147s 235ms/step - loss: 0.3063 - accuracy: 0.8917 - val_loss: 0.4336 - val_accuracy: 0.8590\n",
      "Epoch 14/30\n",
      "625/625 [==============================] - 147s 236ms/step - loss: 0.2771 - accuracy: 0.9006 - val_loss: 0.2854 - val_accuracy: 0.9060\n",
      "Epoch 15/30\n",
      "625/625 [==============================] - 148s 237ms/step - loss: 0.2564 - accuracy: 0.9077 - val_loss: 0.2488 - val_accuracy: 0.9170\n",
      "Epoch 16/30\n",
      "625/625 [==============================] - 146s 234ms/step - loss: 0.2547 - accuracy: 0.9094 - val_loss: 0.2584 - val_accuracy: 0.9070\n",
      "Epoch 17/30\n",
      "625/625 [==============================] - 147s 235ms/step - loss: 0.2327 - accuracy: 0.9145 - val_loss: 0.2269 - val_accuracy: 0.9110\n",
      "Epoch 18/30\n",
      "625/625 [==============================] - 147s 235ms/step - loss: 0.2148 - accuracy: 0.9230 - val_loss: 0.2646 - val_accuracy: 0.9140\n",
      "Epoch 19/30\n",
      "625/625 [==============================] - 147s 235ms/step - loss: 0.2095 - accuracy: 0.9279 - val_loss: 0.2243 - val_accuracy: 0.9240\n",
      "Epoch 20/30\n",
      "625/625 [==============================] - 147s 234ms/step - loss: 0.1948 - accuracy: 0.9314 - val_loss: 0.2353 - val_accuracy: 0.9260\n",
      "Epoch 21/30\n",
      "625/625 [==============================] - 147s 235ms/step - loss: 0.1847 - accuracy: 0.9349 - val_loss: 0.1956 - val_accuracy: 0.9370\n",
      "Epoch 22/30\n",
      "625/625 [==============================] - 147s 235ms/step - loss: 0.1738 - accuracy: 0.9391 - val_loss: 0.3149 - val_accuracy: 0.8950\n",
      "Epoch 23/30\n",
      "625/625 [==============================] - 146s 234ms/step - loss: 0.1729 - accuracy: 0.9407 - val_loss: 0.2206 - val_accuracy: 0.9280\n",
      "Epoch 24/30\n",
      "625/625 [==============================] - 148s 236ms/step - loss: 0.1624 - accuracy: 0.9446 - val_loss: 0.3032 - val_accuracy: 0.9020\n",
      "Epoch 25/30\n",
      "625/625 [==============================] - 147s 235ms/step - loss: 0.1498 - accuracy: 0.9476 - val_loss: 0.2044 - val_accuracy: 0.9280\n",
      "Epoch 26/30\n",
      "625/625 [==============================] - 150s 239ms/step - loss: 0.1425 - accuracy: 0.9488 - val_loss: 0.2948 - val_accuracy: 0.9030\n",
      "Epoch 27/30\n",
      "625/625 [==============================] - 147s 235ms/step - loss: 0.1454 - accuracy: 0.9525 - val_loss: 0.2547 - val_accuracy: 0.9210\n",
      "Epoch 28/30\n",
      "625/625 [==============================] - 147s 235ms/step - loss: 0.1348 - accuracy: 0.9511 - val_loss: 0.1564 - val_accuracy: 0.9470\n",
      "Epoch 29/30\n",
      "625/625 [==============================] - 146s 234ms/step - loss: 0.1284 - accuracy: 0.9540 - val_loss: 0.1671 - val_accuracy: 0.9360\n",
      "Epoch 30/30\n",
      "625/625 [==============================] - 147s 235ms/step - loss: 0.1173 - accuracy: 0.9588 - val_loss: 0.2870 - val_accuracy: 0.9030\n"
     ]
    }
   ],
   "source": [
    "history = model.fit(train_image_gen, validation_data=test_image_gen, epochs=30)"
   ]
  },
  {
   "cell_type": "code",
   "execution_count": 16,
   "id": "a328b1d0-a85e-4e7f-a9a3-e21bc4bcc934",
   "metadata": {},
   "outputs": [
    {
     "data": {
      "image/png": "[encoded data removed]",
      "text/plain": [
       "<Figure size 640x480 with 1 Axes>"
      ]
     },
     "metadata": {},
     "output_type": "display_data"
    }
   ],
   "source": [
    "import matplotlib.pyplot as plt\n",
    "\n",
    "plt.plot(history.history['accuracy'],color = 'red',label='train')\n",
    "plt.plot(history.history['val_accuracy'],color = 'blue',label = 'validation')\n",
    "plt.legend()\n",
    "plt.show()"
   ]
  },
  {
   "cell_type": "code",
   "execution_count": 17,
   "id": "624b75cd-c7f7-4381-829f-90bde8ad2c9b",
   "metadata": {},
   "outputs": [
    {
     "name": "stdout",
     "output_type": "stream",
     "text": [
      "625/625 [==============================] - 136s 217ms/step - loss: 0.1737 - accuracy: 0.9367\n"
     ]
    },
    {
     "data": {
      "text/plain": [
       "0.9366999864578247"
      ]
     },
     "execution_count": 17,
     "metadata": {},
     "output_type": "execute_result"
    }
   ],
   "source": [
    "model.evaluate(train_image_gen)[1]"
   ]
  },
  {
   "cell_type": "code",
   "execution_count": 18,
   "id": "45b13241-479e-4313-a8d9-d43d1eaecf33",
   "metadata": {},
   "outputs": [
    {
     "name": "stdout",
     "output_type": "stream",
     "text": [
      "63/63 [==============================] - 14s 213ms/step - loss: 0.3006 - accuracy: 0.8950\n"
     ]
    },
    {
     "data": {
      "text/plain": [
       "0.8949999809265137"
      ]
     },
     "execution_count": 18,
     "metadata": {},
     "output_type": "execute_result"
    }
   ],
   "source": [
    "model.evaluate(test_image_gen)[1]"
   ]
  },
  {
   "cell_type": "code",
   "execution_count": 23,
   "id": "1cf098a9-c68f-4bb9-9651-796cb66db865",
   "metadata": {},
   "outputs": [],
   "source": [
    "sample_img_load = image.load_img('./tomato_dataset/test/Tomato___Leaf_Mold/02a29ab9-8cba-47a0-bc2f-e7af7dbae149___Crnl_L.Mold 7165.JPG', target_size=correct_image_shape)"
   ]
  },
  {
   "cell_type": "code",
   "execution_count": 24,
   "id": "2c75c87b-cdff-4d75-b3c3-4ea2fe6b4485",
   "metadata": {},
   "outputs": [],
   "source": [
    "sample_img_to_arr = image.img_to_array(sample_img_load) / 255"
   ]
  },
  {
   "cell_type": "code",
   "execution_count": 25,
   "id": "6b8af6fd-2be9-4f04-8c5a-aa935fdc8a19",
   "metadata": {},
   "outputs": [],
   "source": [
    "sample_img_to_arr_expand_dim = np.expand_dims(sample_img_to_arr, 0) "
   ]
  },
  {
   "cell_type": "code",
   "execution_count": 26,
   "id": "298937ff-8055-475a-81fa-a8119ce40d6b",
   "metadata": {},
   "outputs": [
    {
     "name": "stdout",
     "output_type": "stream",
     "text": [
      "1/1 [==============================] - 1s 660ms/step\n"
     ]
    }
   ],
   "source": [
    "prediction = model.predict(sample_img_to_arr_expand_dim)[0]"
   ]
  },
  {
   "cell_type": "code",
   "execution_count": 27,
   "id": "1f9b3eaf-a5a5-4534-b1f3-84259727c7cb",
   "metadata": {},
   "outputs": [],
   "source": [
    "pred_result = np.argmax(prediction)"
   ]
  },
  {
   "cell_type": "code",
   "execution_count": 28,
   "id": "94a47be3-86c3-4c34-b61f-09b18008a294",
   "metadata": {},
   "outputs": [
    {
     "data": {
      "text/plain": [
       "3"
      ]
     },
     "execution_count": 28,
     "metadata": {},
     "output_type": "execute_result"
    }
   ],
   "source": [
    "pred_result"
   ]
  },
  {
   "cell_type": "code",
   "execution_count": null,
   "id": "31eb3888",
   "metadata": {},
   "outputs": [],
   "source": []
  }
 ],
 "metadata": {
  "kernelspec": {
   "display_name": "Python 3 (ipykernel)",
   "language": "python",
   "name": "python3"
  },
  "language_info": {
   "codemirror_mode": {
    "name": "ipython",
    "version": 3
   },
   "file_extension": ".py",
   "mimetype": "text/x-python",
   "name": "python",
   "nbconvert_exporter": "python",
   "pygments_lexer": "ipython3",
   "version": "3.9.7"
  }
 },
 "nbformat": 4,
 "nbformat_minor": 5
}
