{
 "cells": [
  {
   "cell_type": "markdown",
   "id": "76c13281",
   "metadata": {},
   "source": [
    "## Importing all the necessary libraries"
   ]
  },
  {
   "cell_type": "code",
   "execution_count": 1,
   "id": "00944b9b",
   "metadata": {},
   "outputs": [],
   "source": [
    "import os\n",
    "import numpy as np\n",
    "import pandas as pd \n",
    "import matplotlib.pyplot as plt\n",
    "%matplotlib inline\n",
    "from matplotlib.image import imread\n",
    "from tensorflow.keras.preprocessing.image import ImageDataGenerator\n",
    "from tensorflow.keras.models import Model, save_model\n",
    "from tensorflow.keras.layers import Input, Dense, Average, BatchNormalization, Flatten\n",
    "from tensorflow.keras import regularizers\n",
    "from tensorflow.keras.applications.imagenet_utils import preprocess_input\n",
    "from tensorflow.keras.losses import CategoricalCrossentropy\n",
    "from tensorflow.keras.optimizers import Adam \n",
    "from tensorflow.keras.preprocessing import image\n",
    "from tensorflow.keras.models import load_model"
   ]
  },
  {
   "cell_type": "markdown",
   "id": "2386cf07",
   "metadata": {},
   "source": [
    "## Getting the tomato dataset"
   ]
  },
  {
   "cell_type": "code",
   "execution_count": 2,
   "id": "1264b7d1",
   "metadata": {},
   "outputs": [],
   "source": [
    "dataset_directory_location = 'tomato_dataset'"
   ]
  },
  {
   "cell_type": "markdown",
   "id": "eddfe1b8",
   "metadata": {},
   "source": [
    "## Listing the directories present inside tomato dataset"
   ]
  },
  {
   "cell_type": "code",
   "execution_count": 3,
   "id": "fec3abf4",
   "metadata": {},
   "outputs": [
    {
     "data": {
      "text/plain": [
       "['test', 'train']"
      ]
     },
     "execution_count": 3,
     "metadata": {},
     "output_type": "execute_result"
    }
   ],
   "source": [
    "os.listdir(dataset_directory_location)"
   ]
  },
  {
   "cell_type": "markdown",
   "id": "eea16ad9",
   "metadata": {},
   "source": [
    "## Getting the training and testing directory location"
   ]
  },
  {
   "cell_type": "code",
   "execution_count": 4,
   "id": "b8dbdad0",
   "metadata": {},
   "outputs": [],
   "source": [
    "train_dataset_location = os.path.join(dataset_directory_location, 'train')\n",
    "test_dataset_location = os.path.join(dataset_directory_location, 'test')"
   ]
  },
  {
   "cell_type": "markdown",
   "id": "b4e6eb71",
   "metadata": {},
   "source": [
    "## Listing all the directories present inside 'train' and 'test' directory respectively"
   ]
  },
  {
   "cell_type": "code",
   "execution_count": 5,
   "id": "2634ea69",
   "metadata": {},
   "outputs": [
    {
     "data": {
      "text/plain": [
       "['Tomato___Bacterial_spot',\n",
       " 'Tomato___Early_blight',\n",
       " 'Tomato___healthy',\n",
       " 'Tomato___Late_blight',\n",
       " 'Tomato___Leaf_Mold',\n",
       " 'Tomato___Septoria_leaf_spot',\n",
       " 'Tomato___Spider_mites Two-spotted_spider_mite',\n",
       " 'Tomato___Target_Spot',\n",
       " 'Tomato___Tomato_mosaic_virus',\n",
       " 'Tomato___Tomato_Yellow_Leaf_Curl_Virus']"
      ]
     },
     "execution_count": 5,
     "metadata": {},
     "output_type": "execute_result"
    }
   ],
   "source": [
    "os.listdir(train_dataset_location)"
   ]
  },
  {
   "cell_type": "code",
   "execution_count": 6,
   "id": "77ced492",
   "metadata": {},
   "outputs": [
    {
     "data": {
      "text/plain": [
       "['Tomato___Bacterial_spot',\n",
       " 'Tomato___Early_blight',\n",
       " 'Tomato___healthy',\n",
       " 'Tomato___Late_blight',\n",
       " 'Tomato___Leaf_Mold',\n",
       " 'Tomato___Septoria_leaf_spot',\n",
       " 'Tomato___Spider_mites Two-spotted_spider_mite',\n",
       " 'Tomato___Target_Spot',\n",
       " 'Tomato___Tomato_mosaic_virus',\n",
       " 'Tomato___Tomato_Yellow_Leaf_Curl_Virus']"
      ]
     },
     "execution_count": 6,
     "metadata": {},
     "output_type": "execute_result"
    }
   ],
   "source": [
    "os.listdir(test_dataset_location)"
   ]
  },
  {
   "cell_type": "markdown",
   "id": "a4b44f38",
   "metadata": {},
   "source": [
    "## Viewing a 'tomato image with bacterial spot image'"
   ]
  },
  {
   "cell_type": "code",
   "execution_count": 7,
   "id": "c1c2e2d7",
   "metadata": {},
   "outputs": [],
   "source": [
    "tomato_bacterial_spot_img = os.path.join(train_dataset_location, 'Tomato___Bacterial_spot')"
   ]
  },
  {
   "cell_type": "code",
   "execution_count": 8,
   "id": "1feada7a",
   "metadata": {},
   "outputs": [
    {
     "data": {
      "text/plain": [
       "['00416648-be6e-4bd4-bc8d-82f43f8a7240___GCREC_Bact.Sp 3110.JPG']"
      ]
     },
     "execution_count": 8,
     "metadata": {},
     "output_type": "execute_result"
    }
   ],
   "source": [
    "os.listdir(tomato_bacterial_spot_img)[:1]"
   ]
  },
  {
   "cell_type": "code",
   "execution_count": null,
   "id": "de49cffa",
   "metadata": {},
   "outputs": [],
   "source": [
    "tomato_bacterial_spot_img_read = imread(os.path.join(tomato_bacterial_spot_img, '00416648-be6e-4bd4-bc8d-82f43f8a7240___GCREC_Bact.Sp 3110.JPG'))"
   ]
  },
  {
   "cell_type": "code",
   "execution_count": null,
   "id": "10da7f85",
   "metadata": {},
   "outputs": [],
   "source": [
    "plt.imshow(tomato_bacterial_spot_img_read)"
   ]
  },
  {
   "cell_type": "markdown",
   "id": "6dfef5b5",
   "metadata": {},
   "source": [
    "## Getting the shape of the image"
   ]
  },
  {
   "cell_type": "code",
   "execution_count": null,
   "id": "4072fb6d",
   "metadata": {},
   "outputs": [],
   "source": [
    "tomato_bacterial_spot_img_read.shape"
   ]
  },
  {
   "cell_type": "markdown",
   "id": "1f1a077d",
   "metadata": {},
   "source": [
    "## Setting the right image shape of the image for our use case"
   ]
  },
  {
   "cell_type": "code",
   "execution_count": null,
   "id": "9a2bfaf7",
   "metadata": {},
   "outputs": [],
   "source": [
    "correct_image_shape = (224, 224, 3)"
   ]
  },
  {
   "cell_type": "code",
   "execution_count": null,
   "id": "eab259e1",
   "metadata": {},
   "outputs": [],
   "source": [
    "image_gen = ImageDataGenerator(rotation_range=20, \n",
    "                               width_shift_range=0.1, \n",
    "                               height_shift_range=0.1, \n",
    "                               shear_range=0.1, \n",
    "                               zoom_range=0.1, \n",
    "                               horizontal_flip=True, \n",
    "                               fill_mode='nearest',\n",
    "                               preprocessing_function=preprocess_input)"
   ]
  },
  {
   "cell_type": "code",
   "execution_count": null,
   "id": "981b1908",
   "metadata": {},
   "outputs": [],
   "source": [
    "train_image_gen = image_gen.flow_from_directory(train_dataset_location, \n",
    "                                                target_size=correct_image_shape[:2], \n",
    "                                                color_mode='rgb', \n",
    "                                                batch_size=16, \n",
    "                                                class_mode='categorical')\n",
    "\n",
    "test_image_gen = image_gen.flow_from_directory(test_dataset_location, \n",
    "                                                target_size=correct_image_shape[:2], \n",
    "                                                color_mode='rgb', \n",
    "                                                batch_size=16, \n",
    "                                                class_mode='categorical')"
   ]
  },
  {
   "cell_type": "markdown",
   "id": "30bfbc72",
   "metadata": {},
   "source": [
    "## Creating and training the model"
   ]
  },
  {
   "cell_type": "code",
   "execution_count": null,
   "id": "f8cc70b0",
   "metadata": {},
   "outputs": [],
   "source": [
    "vgg16_model = load_model('VGG16_model', compile=False)\n",
    "inceptionV2_model = load_model('inceptionV2_model', compile=False)\n",
    "cnnfromscratch_model = load_model('cnnfromscratch_model', compile=False)"
   ]
  },
  {
   "cell_type": "code",
   "execution_count": null,
   "id": "b3a5c4e6",
   "metadata": {},
   "outputs": [],
   "source": [
    "vgg16_model._name = 'model1'\n",
    "inceptionV2_model._name = 'model2'\n",
    "cnnfromscratch_model._name = 'model3'"
   ]
  },
  {
   "cell_type": "code",
   "execution_count": null,
   "id": "a4604e31",
   "metadata": {},
   "outputs": [],
   "source": [
    "models = [vgg16_model, inceptionV2_model, cnnfromscratch_model]"
   ]
  },
  {
   "cell_type": "code",
   "execution_count": null,
   "id": "e260908c",
   "metadata": {},
   "outputs": [],
   "source": [
    "model_input = Input(shape=correct_image_shape)"
   ]
  },
  {
   "cell_type": "code",
   "execution_count": null,
   "id": "9be9b6b0",
   "metadata": {},
   "outputs": [],
   "source": [
    "model_output = [model(model_input) for model in models]"
   ]
  },
  {
   "cell_type": "code",
   "execution_count": null,
   "id": "51e96df6",
   "metadata": {},
   "outputs": [],
   "source": [
    "x = Average()(model_output)\n",
    "\n",
    "x = BatchNormalization()(x)\n",
    "\n",
    "x = Dense(128, activation='relu', kernel_regularizer=regularizers.l1_l2(l1=0.01, l2=0.01))(x)\n",
    "x = BatchNormalization()(x)\n",
    "\n",
    "x = Dense(64, activation='relu', kernel_regularizer=regularizers.l1_l2(l1=0.01, l2=0.01))(x)\n",
    "x = BatchNormalization()(x)\n",
    "\n",
    "x = Dense(64, activation='relu',kernel_regularizer=regularizers.l1_l2(l1=0.01, l2=0.01))(x)\n",
    "x = BatchNormalization()(x)\n",
    "\n",
    "x = Dense(32, activation='relu', kernel_regularizer=regularizers.l1_l2(l1=0.01, l2=0.01))(x)\n",
    "x = BatchNormalization()(x)\n",
    "\n",
    "\n",
    "output_of_the_model = Dense(10, activation='softmax')(x)"
   ]
  },
  {
   "cell_type": "code",
   "execution_count": null,
   "id": "e926f83d",
   "metadata": {},
   "outputs": [],
   "source": [
    "ensemble_model = Model(model_input, output_of_the_model)"
   ]
  },
  {
   "cell_type": "code",
   "execution_count": null,
   "id": "5ee41fdc",
   "metadata": {},
   "outputs": [],
   "source": [
    "ensemble_model.summary()"
   ]
  },
  {
   "cell_type": "code",
   "execution_count": null,
   "id": "1359d780",
   "metadata": {},
   "outputs": [],
   "source": [
    "ensemble_model.compile(loss=CategoricalCrossentropy(), optimizer=Adam(), metrics=['accuracy'])"
   ]
  },
  {
   "cell_type": "code",
   "execution_count": null,
   "id": "0b7b3e37",
   "metadata": {
    "scrolled": false
   },
   "outputs": [],
   "source": [
    "ensemble_model.fit(train_image_gen, validation_data=test_image_gen, epochs=10)"
   ]
  },
  {
   "cell_type": "code",
   "execution_count": null,
   "id": "f8e3e9b9",
   "metadata": {},
   "outputs": [],
   "source": [
    "history_df = pd.DataFrame(ensemble_model.history.history)"
   ]
  },
  {
   "cell_type": "code",
   "execution_count": null,
   "id": "572d46cc",
   "metadata": {},
   "outputs": [],
   "source": [
    "history_df[['loss', 'val_loss']].plot()"
   ]
  },
  {
   "cell_type": "code",
   "execution_count": null,
   "id": "770eabfb",
   "metadata": {},
   "outputs": [],
   "source": [
    "history_df[['accuracy', 'val_accuracy']].plot()"
   ]
  },
  {
   "cell_type": "markdown",
   "id": "ac99bc46",
   "metadata": {},
   "source": [
    "## Calculating the accuracy on training and testing data"
   ]
  },
  {
   "cell_type": "code",
   "execution_count": null,
   "id": "8137c399",
   "metadata": {},
   "outputs": [],
   "source": [
    "ensemble_model.evaluate(train_image_gen)[1]"
   ]
  },
  {
   "cell_type": "code",
   "execution_count": null,
   "id": "06cbdd97",
   "metadata": {},
   "outputs": [],
   "source": [
    "ensemble_model.evaluate(test_image_gen)[1]"
   ]
  },
  {
   "cell_type": "markdown",
   "id": "ca0ee95c",
   "metadata": {},
   "source": [
    "## Making prediction on sample data"
   ]
  },
  {
   "cell_type": "code",
   "execution_count": null,
   "id": "4a249279",
   "metadata": {},
   "outputs": [],
   "source": [
    "sample_img_load = image.load_img('./tomato_dataset/test/Tomato___Early_blight/0b494c44-8cd0-4491-bdfd-8a354209c3ae___RS_Erly.B_9561.JPG_0ef2cb9c-711d-46cf-b519-4a047a7bb22a.JPG', target_size=correct_image_shape)"
   ]
  },
  {
   "cell_type": "code",
   "execution_count": null,
   "id": "4853006a",
   "metadata": {},
   "outputs": [],
   "source": [
    "sample_img_load"
   ]
  },
  {
   "cell_type": "code",
   "execution_count": null,
   "id": "31f81b6f",
   "metadata": {},
   "outputs": [],
   "source": [
    "sample_img_to_arr = image.img_to_array(sample_img_load) "
   ]
  },
  {
   "cell_type": "code",
   "execution_count": null,
   "id": "4bfd2cce",
   "metadata": {},
   "outputs": [],
   "source": [
    "sample_img_to_arr_preprocess_input = preprocess_input(sample_img_to_arr)"
   ]
  },
  {
   "cell_type": "code",
   "execution_count": null,
   "id": "9f94b0fc",
   "metadata": {},
   "outputs": [],
   "source": [
    "sample_img_to_arr_expand_dim = np.expand_dims(sample_img_to_arr_preprocess_input, 0) "
   ]
  },
  {
   "cell_type": "code",
   "execution_count": null,
   "id": "d8568252",
   "metadata": {},
   "outputs": [],
   "source": [
    "prediction = ensemble_model.predict(sample_img_to_arr_expand_dim)[0]"
   ]
  },
  {
   "cell_type": "code",
   "execution_count": null,
   "id": "f95e7382",
   "metadata": {},
   "outputs": [],
   "source": [
    "pred_result = np.argmax(prediction)"
   ]
  },
  {
   "cell_type": "code",
   "execution_count": null,
   "id": "7b81d205",
   "metadata": {},
   "outputs": [],
   "source": [
    "class_names = ['Tomato___Bacterial_spot', 'Tomato___Early_blight', 'Tomato___Late_blight', 'Tomato___Leaf_Mold', 'Tomato___Septoria_leaf_spot', 'Tomato___Spider_mites Two-spotted_spider_mite', 'Tomato___Target_Spot', 'Tomato___Tomato_Yellow_Leaf_Curl_Virus', 'Tomato___Tomato_mosaic_virus', 'Tomato___healthy']"
   ]
  },
  {
   "cell_type": "code",
   "execution_count": null,
   "id": "ac24b504",
   "metadata": {},
   "outputs": [],
   "source": [
    "pred_final_result = class_names[pred_result]"
   ]
  },
  {
   "cell_type": "code",
   "execution_count": null,
   "id": "e9e4afe0",
   "metadata": {},
   "outputs": [],
   "source": [
    "pred_final_result"
   ]
  }
 ],
 "metadata": {
  "kernelspec": {
   "display_name": "Python 3 (ipykernel)",
   "language": "python",
   "name": "python3"
  },
  "language_info": {
   "codemirror_mode": {
    "name": "ipython",
    "version": 3
   },
   "file_extension": ".py",
   "mimetype": "text/x-python",
   "name": "python",
   "nbconvert_exporter": "python",
   "pygments_lexer": "ipython3",
   "version": "3.9.7"
  }
 },
 "nbformat": 4,
 "nbformat_minor": 5
}
