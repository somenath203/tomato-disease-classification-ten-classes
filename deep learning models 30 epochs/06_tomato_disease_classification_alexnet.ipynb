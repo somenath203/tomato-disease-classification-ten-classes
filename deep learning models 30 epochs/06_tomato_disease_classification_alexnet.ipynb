{
 "cells": [
  {
   "cell_type": "markdown",
   "id": "09b6b1b5",
   "metadata": {},
   "source": [
    "## Importing all the necessary libraries"
   ]
  },
  {
   "cell_type": "code",
   "execution_count": 1,
   "id": "93a2018d-57f2-425e-b2b4-2b6001f844ab",
   "metadata": {},
   "outputs": [],
   "source": [
    "import os\n",
    "import numpy as np\n",
    "import scipy\n",
    "import pandas as pd\n",
    "import matplotlib.pyplot as plt\n",
    "%matplotlib inline\n",
    "from matplotlib.image import imread\n",
    "import tensorflow as tf\n",
    "from tensorflow import keras\n",
    "from keras.preprocessing.image import ImageDataGenerator\n",
    "from keras.models import Sequential, save_model\n",
    "from keras.regularizers import l2\n",
    "from keras.optimizers import Adam\n",
    "from keras.callbacks import EarlyStopping\n",
    "from keras.layers import Dense, Conv2D, Flatten, MaxPooling2D, BatchNormalization\n",
    "from keras.losses import CategoricalCrossentropy\n",
    "from tensorflow.keras.preprocessing import image"
   ]
  },
  {
   "cell_type": "markdown",
   "id": "8d8b56b4",
   "metadata": {},
   "source": [
    "## Getting the tomato dataset"
   ]
  },
  {
   "cell_type": "code",
   "execution_count": 2,
   "id": "f514276e-145e-4e3b-bf7d-1688292348bc",
   "metadata": {},
   "outputs": [],
   "source": [
    "dataset_directory_location = 'tomato_dataset'"
   ]
  },
  {
   "cell_type": "markdown",
   "id": "436a468e",
   "metadata": {},
   "source": [
    "## Listing the directories present inside tomato dataset"
   ]
  },
  {
   "cell_type": "code",
   "execution_count": 3,
   "id": "596d228e-095f-488b-a91a-09c7f14c2f3c",
   "metadata": {},
   "outputs": [
    {
     "data": {
      "text/plain": [
       "['test', 'train']"
      ]
     },
     "execution_count": 3,
     "metadata": {},
     "output_type": "execute_result"
    }
   ],
   "source": [
    "os.listdir(dataset_directory_location)"
   ]
  },
  {
   "cell_type": "markdown",
   "id": "418b73f7",
   "metadata": {},
   "source": [
    "## Getting the training and testing directory location"
   ]
  },
  {
   "cell_type": "code",
   "execution_count": 4,
   "id": "c572057e-70b6-4363-8713-b0b5cd82e36f",
   "metadata": {},
   "outputs": [],
   "source": [
    "train_dataset_location = os.path.join(dataset_directory_location, 'train')\n",
    "test_dataset_location = os.path.join(dataset_directory_location, 'test')"
   ]
  },
  {
   "cell_type": "code",
   "execution_count": 5,
   "id": "75d7b3ea-4394-4d1d-a9e3-88620d9650cf",
   "metadata": {},
   "outputs": [
    {
     "data": {
      "text/plain": [
       "['Tomato___Bacterial_spot',\n",
       " 'Tomato___Early_blight',\n",
       " 'Tomato___healthy',\n",
       " 'Tomato___Late_blight',\n",
       " 'Tomato___Leaf_Mold',\n",
       " 'Tomato___Septoria_leaf_spot',\n",
       " 'Tomato___Spider_mites Two-spotted_spider_mite',\n",
       " 'Tomato___Target_Spot',\n",
       " 'Tomato___Tomato_mosaic_virus',\n",
       " 'Tomato___Tomato_Yellow_Leaf_Curl_Virus']"
      ]
     },
     "execution_count": 5,
     "metadata": {},
     "output_type": "execute_result"
    }
   ],
   "source": [
    "os.listdir(train_dataset_location)"
   ]
  },
  {
   "cell_type": "code",
   "execution_count": 6,
   "id": "cc35ce08-00e6-40c2-b785-feaf4cb9c0d4",
   "metadata": {},
   "outputs": [
    {
     "data": {
      "text/plain": [
       "['Tomato___Bacterial_spot',\n",
       " 'Tomato___Early_blight',\n",
       " 'Tomato___healthy',\n",
       " 'Tomato___Late_blight',\n",
       " 'Tomato___Leaf_Mold',\n",
       " 'Tomato___Septoria_leaf_spot',\n",
       " 'Tomato___Spider_mites Two-spotted_spider_mite',\n",
       " 'Tomato___Target_Spot',\n",
       " 'Tomato___Tomato_mosaic_virus',\n",
       " 'Tomato___Tomato_Yellow_Leaf_Curl_Virus']"
      ]
     },
     "execution_count": 6,
     "metadata": {},
     "output_type": "execute_result"
    }
   ],
   "source": [
    "os.listdir(test_dataset_location)"
   ]
  },
  {
   "cell_type": "markdown",
   "id": "cd507dc2",
   "metadata": {},
   "source": [
    "## Setting the right image shape of the image for our use case"
   ]
  },
  {
   "cell_type": "code",
   "execution_count": 7,
   "id": "0e7750b6-9170-4aad-bdab-dbf891af85fe",
   "metadata": {},
   "outputs": [],
   "source": [
    "correct_image_shape = (224, 224, 3)"
   ]
  },
  {
   "cell_type": "markdown",
   "id": "719c0a20",
   "metadata": {},
   "source": [
    "## Performing Data Augmentation"
   ]
  },
  {
   "cell_type": "code",
   "execution_count": 8,
   "id": "c77e8d67-3245-46ff-a858-32e9da2557d4",
   "metadata": {},
   "outputs": [],
   "source": [
    "image_gen = ImageDataGenerator(rotation_range=20, \n",
    "                               width_shift_range=0.1, \n",
    "                               height_shift_range=0.1, \n",
    "                               shear_range=0.1, \n",
    "                               zoom_range=0.1, \n",
    "                               horizontal_flip=True, \n",
    "                               fill_mode='nearest',\n",
    "                               rescale=1./255)"
   ]
  },
  {
   "cell_type": "code",
   "execution_count": 9,
   "id": "624f1d83-d128-4103-ae92-8e66065ffc08",
   "metadata": {
    "tags": []
   },
   "outputs": [
    {
     "name": "stdout",
     "output_type": "stream",
     "text": [
      "Found 10000 images belonging to 10 classes.\n",
      "Found 1000 images belonging to 10 classes.\n"
     ]
    }
   ],
   "source": [
    "train_image_gen = image_gen.flow_from_directory(train_dataset_location, \n",
    "                                                target_size=correct_image_shape[:2], \n",
    "                                                color_mode='rgb', \n",
    "                                                batch_size=16, \n",
    "                                                class_mode='categorical')\n",
    "\n",
    "test_image_gen = image_gen.flow_from_directory(test_dataset_location, \n",
    "                                                target_size=correct_image_shape[:2], \n",
    "                                                color_mode='rgb', \n",
    "                                                batch_size=16, \n",
    "                                                class_mode='categorical')"
   ]
  },
  {
   "cell_type": "markdown",
   "id": "13139994",
   "metadata": {},
   "source": [
    "## Creating and training the model"
   ]
  },
  {
   "cell_type": "code",
   "execution_count": 12,
   "id": "eb73f752-34c9-47ef-b54d-721303bd26d8",
   "metadata": {},
   "outputs": [],
   "source": [
    "model = Sequential()\n",
    "\n",
    "\n",
    "model.add(Conv2D(filters=96, kernel_size=(11,11), strides=(4,4), activation='relu', input_shape=correct_image_shape))\n",
    "model.add(MaxPooling2D(pool_size=(3,3), strides=(2,2)))\n",
    "\n",
    "model.add(Conv2D(filters=256, kernel_size=(5,5), strides=(1,1), activation='relu', padding=\"same\"))\n",
    "model.add(MaxPooling2D(pool_size=(3,3), strides=(2,2)))\n",
    "\n",
    "model.add(Conv2D(filters=384, kernel_size=(3,3), strides=(1,1), activation='relu', padding=\"same\"))\n",
    "\n",
    "model.add(Conv2D(filters=384, kernel_size=(3,3), strides=(1,1), activation='relu', padding=\"same\"))\n",
    "\n",
    "model.add(Conv2D(filters=256, kernel_size=(3,3), strides=(1,1), activation='relu', padding=\"same\"))\n",
    "model.add(MaxPooling2D(pool_size=(3,3), strides=(2,2)))\n",
    "\n",
    "model.add(Flatten())\n",
    "\n",
    "model.add(Dense(4096, activation='relu'))\n",
    "model.add(Dropout(0.5))\n",
    "model.add(Dense(4096, activation='relu'))\n",
    "model.add(Dropout(0.5))\n",
    "\n",
    "model.add(Dense(10, activation='softmax'))"
   ]
  },
  {
   "cell_type": "code",
   "execution_count": 13,
   "id": "ce0be2e9-5ea6-428b-8754-fb8e5321666e",
   "metadata": {},
   "outputs": [
    {
     "name": "stdout",
     "output_type": "stream",
     "text": [
      "Model: \"sequential\"\n",
      "_________________________________________________________________\n",
      " Layer (type)                Output Shape              Param #   \n",
      "=================================================================\n",
      " conv2d (Conv2D)             (None, 54, 54, 96)        34944     \n",
      "                                                                 \n",
      " max_pooling2d (MaxPooling2D  (None, 26, 26, 96)       0         \n",
      " )                                                               \n",
      "                                                                 \n",
      " conv2d_1 (Conv2D)           (None, 26, 26, 256)       614656    \n",
      "                                                                 \n",
      " max_pooling2d_1 (MaxPooling  (None, 12, 12, 256)      0         \n",
      " 2D)                                                             \n",
      "                                                                 \n",
      " conv2d_2 (Conv2D)           (None, 12, 12, 384)       885120    \n",
      "                                                                 \n",
      " conv2d_3 (Conv2D)           (None, 12, 12, 384)       1327488   \n",
      "                                                                 \n",
      " conv2d_4 (Conv2D)           (None, 12, 12, 256)       884992    \n",
      "                                                                 \n",
      " max_pooling2d_2 (MaxPooling  (None, 5, 5, 256)        0         \n",
      " 2D)                                                             \n",
      "                                                                 \n",
      " flatten (Flatten)           (None, 6400)              0         \n",
      "                                                                 \n",
      " dense (Dense)               (None, 4096)              26218496  \n",
      "                                                                 \n",
      " dropout (Dropout)           (None, 4096)              0         \n",
      "                                                                 \n",
      " dense_1 (Dense)             (None, 4096)              16781312  \n",
      "                                                                 \n",
      " dropout_1 (Dropout)         (None, 4096)              0         \n",
      "                                                                 \n",
      " dense_2 (Dense)             (None, 10)                40970     \n",
      "                                                                 \n",
      "=================================================================\n",
      "Total params: 46,787,978\n",
      "Trainable params: 46,787,978\n",
      "Non-trainable params: 0\n",
      "_________________________________________________________________\n"
     ]
    }
   ],
   "source": [
    "model.summary()"
   ]
  },
  {
   "cell_type": "code",
   "execution_count": 14,
   "id": "bb28da58-9405-4d73-9c9d-c36c9eef7fdb",
   "metadata": {},
   "outputs": [],
   "source": [
    "model.compile(loss=CategoricalCrossentropy(), optimizer=Adam(learning_rate=2e-5), metrics=['accuracy'])"
   ]
  },
  {
   "cell_type": "code",
   "execution_count": 15,
   "id": "bc4b54f8-539c-40db-98ff-18c6caeecbca",
   "metadata": {},
   "outputs": [
    {
     "name": "stdout",
     "output_type": "stream",
     "text": [
      "Epoch 1/30\n",
      "625/625 [==============================] - 177s 263ms/step - loss: 1.8927 - accuracy: 0.2988 - val_loss: 1.2014 - val_accuracy: 0.6000\n",
      "Epoch 2/30\n",
      "625/625 [==============================] - 148s 237ms/step - loss: 1.1388 - accuracy: 0.5974 - val_loss: 0.9329 - val_accuracy: 0.6550\n",
      "Epoch 3/30\n",
      "625/625 [==============================] - 147s 235ms/step - loss: 0.8692 - accuracy: 0.6916 - val_loss: 0.8196 - val_accuracy: 0.7080\n",
      "Epoch 4/30\n",
      "625/625 [==============================] - 144s 229ms/step - loss: 0.7545 - accuracy: 0.7305 - val_loss: 0.6701 - val_accuracy: 0.7580\n",
      "Epoch 5/30\n",
      "625/625 [==============================] - 145s 231ms/step - loss: 0.6519 - accuracy: 0.7648 - val_loss: 0.6375 - val_accuracy: 0.7820\n",
      "Epoch 6/30\n",
      "625/625 [==============================] - 143s 229ms/step - loss: 0.5813 - accuracy: 0.7944 - val_loss: 0.5284 - val_accuracy: 0.8090\n",
      "Epoch 7/30\n",
      "625/625 [==============================] - 144s 230ms/step - loss: 0.5105 - accuracy: 0.8165 - val_loss: 0.4119 - val_accuracy: 0.8520\n",
      "Epoch 8/30\n",
      "625/625 [==============================] - 148s 237ms/step - loss: 0.4810 - accuracy: 0.8268 - val_loss: 0.4600 - val_accuracy: 0.8410\n",
      "Epoch 9/30\n",
      "625/625 [==============================] - 143s 229ms/step - loss: 0.4630 - accuracy: 0.8406 - val_loss: 0.4709 - val_accuracy: 0.8380\n",
      "Epoch 10/30\n",
      "625/625 [==============================] - 144s 230ms/step - loss: 0.4139 - accuracy: 0.8562 - val_loss: 0.4197 - val_accuracy: 0.8540\n",
      "Epoch 11/30\n",
      "625/625 [==============================] - 151s 242ms/step - loss: 0.3915 - accuracy: 0.8613 - val_loss: 0.4532 - val_accuracy: 0.8420\n",
      "Epoch 12/30\n",
      "625/625 [==============================] - 172s 275ms/step - loss: 0.3515 - accuracy: 0.8759 - val_loss: 0.4170 - val_accuracy: 0.8650\n",
      "Epoch 13/30\n",
      "625/625 [==============================] - 171s 273ms/step - loss: 0.3309 - accuracy: 0.8820 - val_loss: 0.3161 - val_accuracy: 0.8850\n",
      "Epoch 14/30\n",
      "625/625 [==============================] - 153s 244ms/step - loss: 0.3293 - accuracy: 0.8857 - val_loss: 0.3474 - val_accuracy: 0.8710\n",
      "Epoch 15/30\n",
      "625/625 [==============================] - 144s 230ms/step - loss: 0.2976 - accuracy: 0.8947 - val_loss: 0.3157 - val_accuracy: 0.8890\n",
      "Epoch 16/30\n",
      "625/625 [==============================] - 143s 229ms/step - loss: 0.2901 - accuracy: 0.9013 - val_loss: 0.2939 - val_accuracy: 0.9090\n",
      "Epoch 17/30\n",
      "625/625 [==============================] - 144s 229ms/step - loss: 0.2751 - accuracy: 0.9058 - val_loss: 0.3172 - val_accuracy: 0.9000\n",
      "Epoch 18/30\n",
      "625/625 [==============================] - 143s 230ms/step - loss: 0.2588 - accuracy: 0.9076 - val_loss: 0.3122 - val_accuracy: 0.8850\n",
      "Epoch 19/30\n",
      "625/625 [==============================] - 144s 230ms/step - loss: 0.2435 - accuracy: 0.9137 - val_loss: 0.2244 - val_accuracy: 0.9150\n",
      "Epoch 20/30\n",
      "625/625 [==============================] - 144s 229ms/step - loss: 0.2333 - accuracy: 0.9188 - val_loss: 0.2973 - val_accuracy: 0.8980\n",
      "Epoch 21/30\n",
      "625/625 [==============================] - 143s 229ms/step - loss: 0.2165 - accuracy: 0.9253 - val_loss: 0.2688 - val_accuracy: 0.9100\n",
      "Epoch 22/30\n",
      "625/625 [==============================] - 144s 230ms/step - loss: 0.2098 - accuracy: 0.9280 - val_loss: 0.3323 - val_accuracy: 0.8760\n",
      "Epoch 23/30\n",
      "625/625 [==============================] - 145s 232ms/step - loss: 0.2027 - accuracy: 0.9285 - val_loss: 0.2220 - val_accuracy: 0.9250\n",
      "Epoch 24/30\n",
      "625/625 [==============================] - 144s 230ms/step - loss: 0.1850 - accuracy: 0.9357 - val_loss: 0.2386 - val_accuracy: 0.9160\n",
      "Epoch 25/30\n",
      "625/625 [==============================] - 145s 231ms/step - loss: 0.1797 - accuracy: 0.9379 - val_loss: 0.2224 - val_accuracy: 0.9280\n",
      "Epoch 26/30\n",
      "625/625 [==============================] - 144s 230ms/step - loss: 0.1783 - accuracy: 0.9388 - val_loss: 0.2399 - val_accuracy: 0.9200\n",
      "Epoch 27/30\n",
      "625/625 [==============================] - 144s 230ms/step - loss: 0.1600 - accuracy: 0.9433 - val_loss: 0.2724 - val_accuracy: 0.8960\n",
      "Epoch 28/30\n",
      "625/625 [==============================] - 143s 229ms/step - loss: 0.1560 - accuracy: 0.9461 - val_loss: 0.2542 - val_accuracy: 0.9080\n",
      "Epoch 29/30\n",
      "625/625 [==============================] - 146s 233ms/step - loss: 0.1599 - accuracy: 0.9424 - val_loss: 0.2005 - val_accuracy: 0.9290\n",
      "Epoch 30/30\n",
      "625/625 [==============================] - 155s 247ms/step - loss: 0.1441 - accuracy: 0.9496 - val_loss: 0.1775 - val_accuracy: 0.9370\n"
     ]
    },
    {
     "data": {
      "text/plain": [
       "<keras.callbacks.History at 0x20e351a4be0>"
      ]
     },
     "execution_count": 15,
     "metadata": {},
     "output_type": "execute_result"
    }
   ],
   "source": [
    "model.fit(train_image_gen, validation_data=test_image_gen, epochs=30)"
   ]
  },
  {
   "cell_type": "code",
   "execution_count": 16,
   "id": "a328b1d0-a85e-4e7f-a9a3-e21bc4bcc934",
   "metadata": {},
   "outputs": [],
   "source": [
    "history = pd.DataFrame(model.history.history)"
   ]
  },
  {
   "cell_type": "code",
   "execution_count": 17,
   "id": "d29ddd93",
   "metadata": {},
   "outputs": [
    {
     "data": {
      "text/plain": [
       "<Axes: >"
      ]
     },
     "execution_count": 17,
     "metadata": {},
     "output_type": "execute_result"
    },
    {
     "data": {
      "image/png": "[encoded data removed]",
      "text/plain": [
       "<Figure size 640x480 with 1 Axes>"
      ]
     },
     "metadata": {},
     "output_type": "display_data"
    }
   ],
   "source": [
    "history[['loss', 'val_loss']].plot()"
   ]
  },
  {
   "cell_type": "code",
   "execution_count": 18,
   "id": "9470480a",
   "metadata": {},
   "outputs": [
    {
     "data": {
      "text/plain": [
       "<Axes: >"
      ]
     },
     "execution_count": 18,
     "metadata": {},
     "output_type": "execute_result"
    },
    {
     "data": {
      "image/png": "[encoded data removed]",
      "text/plain": [
       "<Figure size 640x480 with 1 Axes>"
      ]
     },
     "metadata": {},
     "output_type": "display_data"
    }
   ],
   "source": [
    "history[['accuracy', 'val_accuracy']].plot()"
   ]
  },
  {
   "cell_type": "markdown",
   "id": "ec06918d",
   "metadata": {},
   "source": [
    "## Calculating the accuracy on training and testing data"
   ]
  },
  {
   "cell_type": "code",
   "execution_count": 19,
   "id": "624b75cd-c7f7-4381-829f-90bde8ad2c9b",
   "metadata": {},
   "outputs": [
    {
     "name": "stdout",
     "output_type": "stream",
     "text": [
      "625/625 [==============================] - 139s 223ms/step - loss: 0.0846 - accuracy: 0.9713\n"
     ]
    },
    {
     "data": {
      "text/plain": [
       "0.9713000059127808"
      ]
     },
     "execution_count": 19,
     "metadata": {},
     "output_type": "execute_result"
    }
   ],
   "source": [
    "model.evaluate(train_image_gen)[1]"
   ]
  },
  {
   "cell_type": "code",
   "execution_count": 20,
   "id": "45b13241-479e-4313-a8d9-d43d1eaecf33",
   "metadata": {},
   "outputs": [
    {
     "name": "stdout",
     "output_type": "stream",
     "text": [
      "63/63 [==============================] - 13s 208ms/step - loss: 0.1689 - accuracy: 0.9440\n"
     ]
    },
    {
     "data": {
      "text/plain": [
       "0.9440000057220459"
      ]
     },
     "execution_count": 20,
     "metadata": {},
     "output_type": "execute_result"
    }
   ],
   "source": [
    "model.evaluate(test_image_gen)[1]"
   ]
  },
  {
   "cell_type": "markdown",
   "id": "ab961d09",
   "metadata": {},
   "source": [
    "## Making prediction on sample data"
   ]
  },
  {
   "cell_type": "code",
   "execution_count": 21,
   "id": "1cf098a9-c68f-4bb9-9651-796cb66db865",
   "metadata": {},
   "outputs": [],
   "source": [
    "sample_img_load = image.load_img('./tomato_dataset/test/Tomato___Leaf_Mold/02a29ab9-8cba-47a0-bc2f-e7af7dbae149___Crnl_L.Mold 7165.JPG', target_size=correct_image_shape)"
   ]
  },
  {
   "cell_type": "code",
   "execution_count": 22,
   "id": "2c75c87b-cdff-4d75-b3c3-4ea2fe6b4485",
   "metadata": {},
   "outputs": [],
   "source": [
    "sample_img_to_arr = image.img_to_array(sample_img_load) / 255"
   ]
  },
  {
   "cell_type": "code",
   "execution_count": 23,
   "id": "6b8af6fd-2be9-4f04-8c5a-aa935fdc8a19",
   "metadata": {},
   "outputs": [],
   "source": [
    "sample_img_to_arr_expand_dim = np.expand_dims(sample_img_to_arr, 0) "
   ]
  },
  {
   "cell_type": "code",
   "execution_count": 24,
   "id": "298937ff-8055-475a-81fa-a8119ce40d6b",
   "metadata": {},
   "outputs": [
    {
     "name": "stdout",
     "output_type": "stream",
     "text": [
      "1/1 [==============================] - 1s 518ms/step\n"
     ]
    }
   ],
   "source": [
    "prediction = model.predict(sample_img_to_arr_expand_dim)[0]"
   ]
  },
  {
   "cell_type": "code",
   "execution_count": 25,
   "id": "1f9b3eaf-a5a5-4534-b1f3-84259727c7cb",
   "metadata": {},
   "outputs": [],
   "source": [
    "pred_result = np.argmax(prediction)"
   ]
  },
  {
   "cell_type": "code",
   "execution_count": 28,
   "id": "94a47be3-86c3-4c34-b61f-09b18008a294",
   "metadata": {},
   "outputs": [],
   "source": [
    "class_names = ['Tomato___Bacterial_spot', 'Tomato___Early_blight', 'Tomato___Late_blight', 'Tomato___Leaf_Mold', 'Tomato___Septoria_leaf_spot', 'Tomato___Spider_mites Two-spotted_spider_mite', 'Tomato___Target_Spot', 'Tomato___Tomato_Yellow_Leaf_Curl_Virus', 'Tomato___Tomato_mosaic_virus', 'Tomato___healthy']"
   ]
  },
  {
   "cell_type": "code",
   "execution_count": 29,
   "id": "6a2c093c",
   "metadata": {},
   "outputs": [],
   "source": [
    "pred_final_result = class_names[pred_result]"
   ]
  },
  {
   "cell_type": "code",
   "execution_count": 30,
   "id": "d4ef73b3",
   "metadata": {},
   "outputs": [
    {
     "data": {
      "text/plain": [
       "'Tomato___Leaf_Mold'"
      ]
     },
     "execution_count": 30,
     "metadata": {},
     "output_type": "execute_result"
    }
   ],
   "source": [
    "pred_final_result"
   ]
  },
  {
   "cell_type": "markdown",
   "id": "c9d941ae",
   "metadata": {},
   "source": [
    "## Saving the model"
   ]
  },
  {
   "cell_type": "code",
   "execution_count": 27,
   "id": "31eb3888",
   "metadata": {},
   "outputs": [
    {
     "name": "stderr",
     "output_type": "stream",
     "text": [
      "WARNING:absl:Found untraced functions such as _jit_compiled_convolution_op, _jit_compiled_convolution_op, _jit_compiled_convolution_op, _jit_compiled_convolution_op, _jit_compiled_convolution_op while saving (showing 5 of 5). These functions will not be directly callable after loading.\n"
     ]
    },
    {
     "name": "stdout",
     "output_type": "stream",
     "text": [
      "INFO:tensorflow:Assets written to: alexnet_model\\assets\n"
     ]
    },
    {
     "name": "stderr",
     "output_type": "stream",
     "text": [
      "INFO:tensorflow:Assets written to: alexnet_model\\assets\n"
     ]
    }
   ],
   "source": [
    "save_model(model, 'alexnet_model')"
   ]
  }
 ],
 "metadata": {
  "kernelspec": {
   "display_name": "Python 3 (ipykernel)",
   "language": "python",
   "name": "python3"
  },
  "language_info": {
   "codemirror_mode": {
    "name": "ipython",
    "version": 3
   },
   "file_extension": ".py",
   "mimetype": "text/x-python",
   "name": "python",
   "nbconvert_exporter": "python",
   "pygments_lexer": "ipython3",
   "version": "3.9.7"
  }
 },
 "nbformat": 4,
 "nbformat_minor": 5
}
